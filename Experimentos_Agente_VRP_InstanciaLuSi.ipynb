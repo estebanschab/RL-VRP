{
  "cells": [
    {
      "cell_type": "code",
      "execution_count": null,
      "metadata": {
        "id": "hn1_7h8Tjo8d"
      },
      "outputs": [],
      "source": [
        "import tempfile\n",
        "tempdir = tempfile.gettempdir()"
      ]
    },
    {
      "cell_type": "markdown",
      "metadata": {
        "id": "_-gEtHxvYLte"
      },
      "source": [
        "#**Random Fuzzy Number Generator**\n",
        "\n",
        "\n",
        "\n"
      ]
    },
    {
      "cell_type": "code",
      "execution_count": null,
      "metadata": {
        "id": "YzTDtDrNRv10"
      },
      "outputs": [],
      "source": [
        "#!pip install portion"
      ]
    },
    {
      "cell_type": "code",
      "execution_count": null,
      "metadata": {
        "id": "vzeNvftxUFJP"
      },
      "outputs": [],
      "source": [
        "#import portion as P\n",
        "from random import random as rm\n",
        "import math"
      ]
    },
    {
      "cell_type": "markdown",
      "metadata": {
        "id": "ZCyq2YfeWRYW"
      },
      "source": [
        "# Alpha-cut based (for unimodal Fuzzy Numbers)\n",
        "From \"Fuzzy Uncertainty in Random Variable Generation: An a-Cut Approach\", by Christian Alfredo Varón-Gaviria, José Luis Barbosa-Fontecha, and Juan Carlos Figueroa-García"
      ]
    },
    {
      "cell_type": "code",
      "execution_count": null,
      "metadata": {
        "id": "J6MRYdwCYMts"
      },
      "outputs": [],
      "source": [
        "def build_triangular_mf(a, b, c):\n",
        "  if a > b or b > c:\n",
        "    raise ValueError(\"Parameters must form a nondecreasing sequence\")\n",
        "  return lambda x: (x-a)/(b-a) if a <= x < b else (c - x)/(c - b) if b <= x < c else 0\n",
        "\n",
        "def build_sampleable_triangular_mf(a, b, c):\n",
        "  if a > b or b > c:\n",
        "    raise ValueError(\"Parameters must form a nondecreasing sequence\")\n",
        "  Lambda1 = (b - a) / 2\n",
        "  Lambda2 = (c - b) / 2\n",
        "  Lambda = (c - a) / 2\n",
        "\n",
        "  lambda1 = Lambda1 / Lambda\n",
        "  lambda2 = Lambda2 / Lambda\n",
        "\n",
        "  return lambda u1, u2: u1 * (b - a) + a if u2 <= lambda1 else c - u1 * (c - b)\n"
      ]
    },
    {
      "cell_type": "code",
      "execution_count": null,
      "metadata": {
        "id": "XEiWmaXvTLDj"
      },
      "outputs": [],
      "source": [
        "%matplotlib inline\n",
        "import matplotlib.pyplot as plt\n",
        "plt.style.use('seaborn-whitegrid')\n",
        "import numpy as np"
      ]
    },
    {
      "cell_type": "code",
      "execution_count": null,
      "metadata": {
        "colab": {
          "base_uri": "https://localhost:8080/",
          "height": 279
        },
        "id": "scrTF-PoTP9b",
        "outputId": "4a6cdc9d-9e1d-4d51-ae02-6dee51f5a7e3"
      },
      "outputs": [
        {
          "output_type": "execute_result",
          "data": {
            "text/plain": [
              "[<matplotlib.lines.Line2D at 0x7fd0da7c5590>]"
            ]
          },
          "metadata": {},
          "execution_count": 6
        },
        {
          "output_type": "display_data",
          "data": {
            "text/plain": [
              "<Figure size 432x288 with 1 Axes>"
            ],
            "image/png": "[encoded data removed]"
          },
          "metadata": {}
        }
      ],
      "source": [
        "n = 100\n",
        "\n",
        "sampler = build_sampleable_triangular_mf(23, 45, 62)\n",
        "mf = build_triangular_mf(23, 45, 62)\n",
        "x = [sampler(rm(), rm()) for i in range(n)]\n",
        "y = [mf(u) for u in x]\n",
        "plt.plot(x, y, 'o', color='black')"
      ]
    },
    {
      "cell_type": "markdown",
      "metadata": {
        "id": "selsh4D2X8oU"
      },
      "source": [
        "# Cumulative membership function-based\n",
        "From \"Fuzzy Uncertainty in Random Variable Generation: A Cumulative Membership\n",
        "Function Approach\", by Diana Giseth Pulido-L´opez, Mabel García, and Juan Carlos Figueroa-García"
      ]
    },
    {
      "cell_type": "code",
      "execution_count": null,
      "metadata": {
        "id": "NATqXt_kYMT0"
      },
      "outputs": [],
      "source": [
        "def build_trapezoidal_mf(a, b, c, d):\n",
        "  if a > b or b > c or c > d:\n",
        "    raise ValueError(\"Parameters must form a nondecreasing sequence\")\n",
        "  return lambda x: (x-a)/(b-a) if a <= x < b else 1 if b <= x < c else (d - x)/(d - c) if c <= x < d else 0\n",
        "\n",
        "def build_sampleable_trapezoidal_mf(a, b, c, d):\n",
        "  if a > b or b > c or c > d:\n",
        "    raise ValueError(\"Parameters must form a nondecreasing sequence\")\n",
        "  Lambda1 = (b - a) / 2\n",
        "  Lambda2 = c - b\n",
        "  Lambda3 = (d - c) / 2\n",
        "  Lambda = (c + d - a - b) / 2\n",
        "\n",
        "  lambda1 = Lambda1 / Lambda\n",
        "  lambda2 = Lambda2 / Lambda\n",
        "  lambda3 = Lambda3 / Lambda\n",
        "\n",
        "  return lambda u: a + math.sqrt((b - a) * 2 * u * Lambda) if u <= lambda1 else u * Lambda + b - Lambda1 if u <= (lambda1 + lambda2) else d - math.sqrt((d - c)**2 - 2 * (d - c) * (u * Lambda - Lambda1 - Lambda2))\n"
      ]
    },
    {
      "cell_type": "code",
      "execution_count": null,
      "metadata": {
        "colab": {
          "base_uri": "https://localhost:8080/"
        },
        "id": "k4tOlCfIFGri",
        "outputId": "69eb8150-21a4-4c69-954d-7670a668ff32"
      },
      "outputs": [
        {
          "output_type": "stream",
          "name": "stdout",
          "text": [
            "(55.616615688136704, 1)\n",
            "(48.6316165009853, 1)\n",
            "(45.710385491620755, 1)\n",
            "(82.55483243941127, 0.4290324322385758)\n",
            "(80.98346956610354, 0.4726814009415684)\n",
            "(50.76708862986361, 1)\n",
            "(47.38881624755083, 1)\n",
            "(45.6857360406742, 1)\n",
            "(70.1746684890979, 0.7729258753028362)\n",
            "(63.83807224812133, 0.9489424375521853)\n",
            "(57.431495853023904, 1)\n",
            "(60.615230899543434, 1)\n",
            "(27.153770694191202, 0.1888077588268728)\n",
            "(46.62411043632852, 1)\n",
            "(45.07531356963136, 1)\n",
            "(73.83647214465216, 0.6712091070929955)\n",
            "(35.87480007861752, 0.5852181853917053)\n",
            "(36.719122625424326, 0.623596482973833)\n",
            "(70.20772022116292, 0.7720077716343634)\n",
            "(61.88982978316564, 1)\n",
            "(45.26211812486501, 1)\n",
            "(85.97310758884488, 0.3340803447543088)\n",
            "(83.09556140459874, 0.4140121832055905)\n",
            "(75.51888337275068, 0.6244754618680367)\n",
            "(76.8316785792448, 0.5880089283543113)\n",
            "(48.67165578742183, 1)\n",
            "(38.55172784553561, 0.7068967202516186)\n",
            "(88.8334766677677, 0.25462564811756394)\n",
            "(72.85454177462553, 0.6984849507048464)\n",
            "(60.447819484733515, 1)\n",
            "(49.746423498141375, 1)\n",
            "(67.44018849119072, 0.8488836530224799)\n",
            "(59.11763576539302, 1)\n",
            "(31.39230052121495, 0.3814682055097704)\n",
            "(49.30887446454897, 1)\n",
            "(32.46104565859249, 0.43004752993602224)\n",
            "(33.09356983387426, 0.45879862881246647)\n",
            "(75.87393165053905, 0.6146130097072486)\n",
            "(50.22245377396089, 1)\n",
            "(37.65977979330551, 0.6663536269684323)\n",
            "(48.00818435769141, 1)\n",
            "(58.12485120466708, 1)\n",
            "(29.20293236805731, 0.2819514712753323)\n",
            "(45.25725719721222, 1)\n",
            "(32.88586247604211, 0.4493573852746412)\n",
            "(59.05274801299632, 1)\n",
            "(91.95161917569665, 0.16801057845287085)\n",
            "(83.65764351133782, 0.3983987913517271)\n",
            "(45.969757647038, 1)\n",
            "(27.41861463496662, 0.20084611977120997)\n",
            "(74.75323755566026, 0.6457434012316594)\n",
            "(72.76573536785841, 0.7009517953372664)\n",
            "(30.282198003150576, 0.331009000143208)\n",
            "(59.47212715821189, 1)\n",
            "(47.973898862898956, 1)\n",
            "(66.9111003135264, 0.8635805468464888)\n",
            "(74.71678801040603, 0.6467558885998324)\n",
            "(33.391481751017736, 0.47234007959171526)\n",
            "(69.77269519950988, 0.7840918000136143)\n",
            "(53.63979083930468, 1)\n",
            "(65.92450378548136, 0.890986005958851)\n",
            "(70.40876180901844, 0.766423283082821)\n",
            "(85.35395200197587, 0.35127911105622583)\n",
            "(64.34619862081206, 0.9348278160885539)\n",
            "(64.29617153091252, 0.9362174574746523)\n",
            "(87.28710570483237, 0.2975803970879897)\n",
            "(49.67589453111947, 1)\n",
            "(72.0001612871168, 0.7222177420245335)\n",
            "(73.12481990524661, 0.6909772248542608)\n",
            "(74.9090718503146, 0.6414146708245944)\n",
            "(35.264494511862274, 0.557477023266467)\n",
            "(39.82317870679678, 0.7646899412180356)\n",
            "(53.87401662312902, 1)\n",
            "(79.80248323494266, 0.5054865768071485)\n",
            "(66.17266030787663, 0.8840927692256493)\n",
            "(61.53464446647888, 1)\n",
            "(69.27263058847959, 0.7979824836533448)\n",
            "(48.356730878413664, 1)\n",
            "(74.62430251274012, 0.6493249302016635)\n",
            "(56.27162419750128, 1)\n",
            "(82.62654476767067, 0.4270404231202593)\n",
            "(44.56824957496155, 0.9803749806800703)\n",
            "(45.7691255159357, 1)\n",
            "(93.28854780056857, 0.13087367220642873)\n",
            "(27.019232421123636, 0.1826923827783471)\n",
            "(78.35616196474102, 0.5456621676460828)\n",
            "(67.7195171956423, 0.8411245223432695)\n",
            "(34.77481617739192, 0.5352189171541781)\n",
            "(54.159642822551476, 1)\n",
            "(59.52307546079955, 1)\n",
            "(50.31789752067688, 1)\n",
            "(83.33032950258615, 0.40749084715038464)\n",
            "(55.79150910511055, 1)\n",
            "(84.59036150430555, 0.37248995821373476)\n",
            "(68.03056427530547, 0.8324843256859593)\n",
            "(58.09083126424133, 1)\n",
            "(41.814265924902585, 0.8551939056773903)\n",
            "(44.5519760030579, 0.9796352728662683)\n",
            "(35.586001675322784, 0.5720909852419447)\n",
            "(76.7768744179678, 0.589531266167561)\n"
          ]
        }
      ],
      "source": [
        "sampler = build_sampleable_trapezoidal_mf(23, 45, 62, 98)\n",
        "mf = build_trapezoidal_mf(23, 45, 62, 98)\n",
        "\n",
        "for j in range(100):\n",
        "  r = sampler(rm())\n",
        "  print(\"({}, {})\".format(r, mf(r)))"
      ]
    },
    {
      "cell_type": "code",
      "execution_count": null,
      "metadata": {
        "id": "tox7BrKIGiAy"
      },
      "outputs": [],
      "source": [
        "%matplotlib inline\n",
        "import matplotlib.pyplot as plt\n",
        "plt.style.use('seaborn-whitegrid')\n",
        "import numpy as np"
      ]
    },
    {
      "cell_type": "code",
      "execution_count": null,
      "metadata": {
        "colab": {
          "base_uri": "https://localhost:8080/",
          "height": 279
        },
        "id": "TDCx2C08G45k",
        "outputId": "f893bd6f-e952-406c-9865-469e35210848"
      },
      "outputs": [
        {
          "output_type": "execute_result",
          "data": {
            "text/plain": [
              "[<matplotlib.lines.Line2D at 0x7fd0da2bee10>]"
            ]
          },
          "metadata": {},
          "execution_count": 10
        },
        {
          "output_type": "display_data",
          "data": {
            "text/plain": [
              "<Figure size 432x288 with 1 Axes>"
            ],
            "image/png": "[encoded data removed]"
          },
          "metadata": {}
        }
      ],
      "source": [
        "n = 1000\n",
        "x = [sampler(rm()) for i in range(n)]\n",
        "y = [mf(u) for u in x]\n",
        "plt.plot(x, y, 'o', color='black')"
      ]
    },
    {
      "cell_type": "code",
      "execution_count": null,
      "metadata": {
        "id": "Dwtc5bvkalfJ"
      },
      "outputs": [],
      "source": [
        ""
      ]
    },
    {
      "cell_type": "markdown",
      "metadata": {
        "id": "OhLtb1vx9bHq"
      },
      "source": [
        "#**Simulación de una instancia de VRP utilizando Simpy**\n",
        "\n",
        "Características: \n",
        "\n",
        "*   1 vehiculo con límite de capacidad.\n",
        "*   1 depósito (inicio y fin del recorrido).\n",
        "*   N clientes.\n",
        "*   Se posee una estimación de las demandas de los clientes y del tiempo de recorrido entre cada uno de ellos incluído el depósito.\n",
        "*   La simulación finaliza al regresar al depósito.\n",
        "\n",
        "\n",
        "\n"
      ]
    },
    {
      "cell_type": "markdown",
      "metadata": {
        "id": "vFHci8LJ_FiN"
      },
      "source": [
        "## Instalación e importación de librerías necesarias"
      ]
    },
    {
      "cell_type": "code",
      "execution_count": null,
      "metadata": {
        "colab": {
          "base_uri": "https://localhost:8080/"
        },
        "id": "Wi0Fpsao7yPF",
        "outputId": "f0a25ac7-121d-4d27-82e3-c3016644a37b"
      },
      "outputs": [
        {
          "output_type": "stream",
          "name": "stdout",
          "text": [
            "Collecting simpy\n",
            "  Downloading simpy-4.0.1-py2.py3-none-any.whl (29 kB)\n",
            "Installing collected packages: simpy\n",
            "Successfully installed simpy-4.0.1\n",
            "Requirement already satisfied: pandas in /usr/local/lib/python3.7/dist-packages (1.3.5)\n",
            "Requirement already satisfied: python-dateutil>=2.7.3 in /usr/local/lib/python3.7/dist-packages (from pandas) (2.8.2)\n",
            "Requirement already satisfied: numpy>=1.17.3 in /usr/local/lib/python3.7/dist-packages (from pandas) (1.21.6)\n",
            "Requirement already satisfied: pytz>=2017.3 in /usr/local/lib/python3.7/dist-packages (from pandas) (2022.1)\n",
            "Requirement already satisfied: six>=1.5 in /usr/local/lib/python3.7/dist-packages (from python-dateutil>=2.7.3->pandas) (1.15.0)\n"
          ]
        }
      ],
      "source": [
        "!pip install simpy\n",
        "!pip install pandas"
      ]
    },
    {
      "cell_type": "code",
      "execution_count": null,
      "metadata": {
        "id": "RkRFtzNmumlz"
      },
      "outputs": [],
      "source": [
        "import simpy\n",
        "import random\n",
        "import numpy as np\n",
        "import pandas as pd"
      ]
    },
    {
      "cell_type": "markdown",
      "metadata": {
        "id": "nO7jx1Mj_Rah"
      },
      "source": [
        "## Definicion e inicializacion de estructuras de datos\n",
        "\n"
      ]
    },
    {
      "cell_type": "markdown",
      "metadata": {
        "id": "TstuMh2-dTyv"
      },
      "source": [
        "### Samplers for Random Fuzzy Number Generator"
      ]
    },
    {
      "cell_type": "code",
      "execution_count": null,
      "metadata": {
        "id": "_YYOmbunc7BR"
      },
      "outputs": [],
      "source": [
        "##\n",
        "sampler_triangular = build_sampleable_triangular_mf(0.3, 0.4, 0.45)\n",
        "##\n",
        "sampler_trapezoidal_prod_estim = build_sampleable_trapezoidal_mf(23, 35, 43, 55)\n",
        "#sampler_trapezoidal_prod_pedido = build_sampleable_trapezoidal_mf(23, 35, 43, 55)\n",
        "sampler_trapezoidal_prod_pedido = build_sampleable_trapezoidal_mf(40, 43, 46, 50)"
      ]
    },
    {
      "cell_type": "code",
      "execution_count": null,
      "metadata": {
        "colab": {
          "base_uri": "https://localhost:8080/"
        },
        "id": "ysWVdcMAv8CB",
        "outputId": "e25b0de1-ddbe-46d9-d5c3-fdc363537a44"
      },
      "outputs": [
        {
          "output_type": "execute_result",
          "data": {
            "text/plain": [
              "0.3145119712550407"
            ]
          },
          "metadata": {},
          "execution_count": 14
        }
      ],
      "source": [
        "sampler_trapezoidal_prod_estim(rm())\n",
        "sampler_triangular(rm(),rm())"
      ]
    },
    {
      "cell_type": "code",
      "execution_count": null,
      "metadata": {
        "id": "Mq-7hQbNz_OZ"
      },
      "outputs": [],
      "source": [
        "# Tabla de distancias/tiempos estimados entre los clientes, incluyendo el deposito (intervalo fuzzy)\n",
        "# revisar esta tabala para generar un intervalo fuzzy !!!\n",
        "carnicerias = ['Frigorifico Tres Arroyos','La Blanq y D Gaspar','La Blanquita','Rougier Carnes','La Pulperia','Granja de Rosso','La Estancia','El Buen Trato','El Ternero Gasolero','La Imbatible']\n",
        "tiempos = np.array([[0, 9, 6, 4, 4, 7, 9, 10, 12, 10],\n",
        "[8, 0, 5, 8, 8, 9, 9, 10, 11, 9],\n",
        "[6, 6, 0, 5, 5, 5, 5, 8, 7, 5],\n",
        "[4, 8, 5, 0, 1, 4, 5, 5, 7, 6],\n",
        "[5, 9, 6, 3, 0, 5, 7, 6, 8, 7],\n",
        "[7, 9, 6, 5, 5, 0, 4, 3, 5, 4],\n",
        "[8, 9, 5, 6, 5, 2, 0, 5, 4, 2],\n",
        "[9, 12, 9, 7, 6, 5, 6, 0, 5, 7],\n",
        "[10, 11, 7, 8, 7, 5, 4, 3, 0, 4],\n",
        "[9, 9, 6, 7, 6, 5, 3, 7, 6, 0]])\n",
        "df_tiempos = pd.DataFrame(tiempos, columns=carnicerias, index=carnicerias)\n",
        "df_tiempos\n",
        "\n",
        "# Tabla de Planificacion inicial de orden de visita, con estimacion de cantidad de productos requeridos (intervalo fuzzy)\n",
        "# revisar esta tabala para generar un intervalo fuzzy !!!\n",
        "data_planificacion = np.array([['La Blanq y D Gaspar',1,4, 40,int(sampler_trapezoidal_prod_estim(rm())),0],\n",
        "                              ['La Blanquita',2,3, 40,int(sampler_trapezoidal_prod_estim(rm())),0],\n",
        "                              ['Rougier Carnes',3,2,40,int(sampler_trapezoidal_prod_estim(rm())),0],\n",
        "                              ['La Pulperia',4,1, 40,int(sampler_trapezoidal_prod_estim(rm())),0],\n",
        "                              ['Granja de Rosso',5,5,40,int(sampler_trapezoidal_prod_estim(rm())),0],\n",
        "                              ['La Estancia',6,6,40,int(sampler_trapezoidal_prod_estim(rm())),0],\n",
        "                              ['El Buen Trato',7,9,40,int(sampler_trapezoidal_prod_estim(rm())),0],\n",
        "                              ['El Ternero Gasolero',8,8,40,int(sampler_trapezoidal_prod_estim(rm())),0],\n",
        "                              ['La Imbatible',9,7,40,int(sampler_trapezoidal_prod_estim(rm())),0]])\n",
        "df_planificacion =  pd.DataFrame(data_planificacion, columns=['cliente','idCliente','orden','productosEstimados','productosPedidos','productosRecibidos'])\n",
        "df_planificacion\n",
        "\n",
        "# Tabla de \"registro de viaje\": orden de visita real, confirmacion de atencion, duracion del viaje, tiempos de llegada, tiempo de atencion, cantidad de pedido real (en el momento), cantidad de productos realmente entregados\n",
        "#data_viaje = np.array([0,0,0,0,0,0,0,0]) # se cargaria durante la simulacion\n",
        "df_viaje =  pd.DataFrame( columns=['Cliente','orden_visita_real','duracion_viaje','tiempo_llegada','duracion_espera','posponer','tiempo_atencion','pedido','duracion_atencion','entregar','entregado'])\n",
        "df_viaje\n",
        "\n",
        "# Vehiculos (capacidad, prod disp, prod entregados, tiempos/dist recorrida... )\n",
        "capacity_vehicle_1 = 450\n",
        "available_products_vehicle_1 = 410\n",
        "warehouse_vehicle_1 = 'Frigorifico Tres Arroyos' #ubicacion inicial\n",
        "current_time=''\n",
        "current_event= ''\n",
        "current_location = warehouse_vehicle_1\n"
      ]
    },
    {
      "cell_type": "code",
      "execution_count": null,
      "metadata": {
        "id": "85hUTlD5bmAV"
      },
      "outputs": [],
      "source": [
        ""
      ]
    },
    {
      "cell_type": "code",
      "execution_count": null,
      "metadata": {
        "id": "cLd2AIYGihO8"
      },
      "outputs": [],
      "source": [
        "#df_planificacion.sort_values('idCliente').at[8, 'cliente']\n",
        "\n",
        "#copy_planing = self.vehicle.planning.copy()\n",
        "#entregar = copy_planing.sort_values('idCliente').at[self.vehicle.current_customerId, 'productosEstimados']"
      ]
    },
    {
      "cell_type": "code",
      "execution_count": null,
      "metadata": {
        "colab": {
          "base_uri": "https://localhost:8080/"
        },
        "id": "UWzLMnNswplP",
        "outputId": "969def92-a0d4-4ef0-d89c-ce1500b8e020"
      },
      "outputs": [
        {
          "output_type": "execute_result",
          "data": {
            "text/plain": [
              "9"
            ]
          },
          "metadata": {},
          "execution_count": 17
        }
      ],
      "source": [
        "df_planificacion.sort_values('idCliente')\n",
        "df_planificacion.sort_values('idCliente').at[2, 'productosEstimados']\n",
        "#df_planificacion.sort_values('idCliente').at[self.current_customerId, 'productosEstimados']\n",
        "len(df_planificacion.index)"
      ]
    },
    {
      "cell_type": "code",
      "execution_count": null,
      "metadata": {
        "colab": {
          "base_uri": "https://localhost:8080/"
        },
        "id": "oNe0TSX3eZiv",
        "outputId": "c3579220-8d69-4239-fcda-eaae2d16ed02"
      },
      "outputs": [
        {
          "output_type": "stream",
          "name": "stdout",
          "text": [
            "               cliente idCliente orden productosEstimados productosPedidos  \\\n",
            "0  La Blanq y D Gaspar         1     4                 40               42   \n",
            "1         La Blanquita         2     3                 40               31   \n",
            "2       Rougier Carnes         3     2                 40               33   \n",
            "3          La Pulperia         4     1                 40               32   \n",
            "4      Granja de Rosso         5     5                 40               46   \n",
            "5          La Estancia         6     6                 40               38   \n",
            "6        El Buen Trato         7     9                 40               35   \n",
            "7  El Ternero Gasolero         8     8                 40               33   \n",
            "8         La Imbatible         9     7                 40               37   \n",
            "\n",
            "  productosRecibidos  \n",
            "0                  0  \n",
            "1                  0  \n",
            "2                  0  \n",
            "3                  0  \n",
            "4                  0  \n",
            "5                  0  \n",
            "6                  0  \n",
            "7                  0  \n",
            "8                  0  \n"
          ]
        }
      ],
      "source": [
        "print(df_planificacion)"
      ]
    },
    {
      "cell_type": "code",
      "execution_count": null,
      "metadata": {
        "colab": {
          "base_uri": "https://localhost:8080/"
        },
        "id": "2Qxm_lwMgKvx",
        "outputId": "30675052-8d4f-4756-9099-c202c79c013b"
      },
      "outputs": [
        {
          "output_type": "execute_result",
          "data": {
            "text/plain": [
              "9"
            ]
          },
          "metadata": {},
          "execution_count": 19
        }
      ],
      "source": [
        "recibidos = df_planificacion['productosRecibidos'].to_numpy(dtype=int)\n",
        "clientes_sin_entrega = recibidos.size - np.count_nonzero(recibidos)\n",
        "clientes_sin_entrega\n"
      ]
    },
    {
      "cell_type": "markdown",
      "metadata": {
        "id": "d2iEjPAP_dCr"
      },
      "source": [
        "## Implementación de la clase 'Vehicle'\n",
        "\n",
        "Esta clase define e implementa la lógica de la simulación."
      ]
    },
    {
      "cell_type": "code",
      "execution_count": null,
      "metadata": {
        "id": "v2X8dvnq2P3v"
      },
      "outputs": [],
      "source": [
        "class Vehicle(object):\n",
        "    def __init__(self, env, capacity, available_products, times_map, planning, trip_log, warehouse):\n",
        "        self.env = env\n",
        "        #self.vehicle = simpy.Resource(env, num_vehicles)\n",
        "        self.available_products = available_products\n",
        "        self.travel_time = 0\n",
        "        self.times_map = times_map\n",
        "        self.planning = planning.sort_values('idCliente') #.set_index('orden')\n",
        "        self.trip_log = trip_log\n",
        "        self.clients_inorder = planning.sort_values('orden')[['cliente','orden']].set_index('orden')\n",
        "        self.warehouse = warehouse\n",
        "        self.current_location = warehouse\n",
        "        self.customers_visited = 0\n",
        "        self.current_event= ''\n",
        "        self.current_time=''\n",
        "        self.current_customerId = None\n",
        "        self.cancel = 0\n",
        "        self.next_customer = 1\n",
        "        self.max_viajes = len(self.planning.index) * 2\n",
        "\n",
        "    def set_next_customer(self, id_customer): \n",
        "        self.next_customer = id_customer\n",
        "\n",
        "    def run (self,env):      \n",
        "        initial_time = env.now\n",
        "        self.current_event = 0 #'inicio'\n",
        "\n",
        "        # print('Inicio de run')\n",
        "\n",
        "        #realizar el recorrido visitando los clientes (mientras el próximo viaje no sea volver al depósito)\n",
        "        trip_number=0\n",
        "        while (self.next_customer!=0 and trip_number<self.max_viajes):\n",
        "          self.cancel = 0\n",
        "          trip_number += 1\n",
        "          self.current_customerId = self.next_customer\n",
        "          customer= self.planning.set_index('idCliente').at[str(self.current_customerId),\"cliente\"]\n",
        "\n",
        "          yield self.env.process(self.travel_next_customer(customer))\n",
        "\n",
        "          #En esta version no se considera la espera\n",
        "          #yield self.env.process(self.wait_customer(customer))\n",
        "          if (self.cancel == 0):\n",
        "            yield self.env.process(self.check_order(customer))\n",
        "            yield self.env.process(self.deliver_products(customer))\n",
        "          total_travel_time = env.now - initial_time\n",
        "          #yield self.env.timeout(1)\n",
        "\n",
        "\n",
        "        #volver al deposito\n",
        "        trip_duration = self.times_map.loc[self.current_location].loc[self.warehouse] #tiempo de viaje desde la ubicacion actual al deposito\n",
        "        yield self.env.timeout(trip_duration)\n",
        "        self.current_event = 6 #'fin'\n",
        "        total_travel_time = self.env.now - initial_time\n",
        "\n",
        "\n",
        "    def travel_next_customer(self, customer): \n",
        "        initial_travel_time = self.env.now\n",
        "\n",
        "        #print('Viajando a %s' % customer)\n",
        "\n",
        "        # Generar el tiempo de viaje desde la ubicacion actual al proximo cliente\n",
        "        travel_time = self.times_map.loc[self.current_location].loc[customer] #tiempo de viaje desde la ubicacion actual al proximo cliente\n",
        "\n",
        "        #yield self.env.timeout(random.randint(1, 3)) \n",
        "        yield self.env.timeout(travel_time) \n",
        "        \n",
        "        #print('Arribo a %s' % customer)\n",
        "       \n",
        "        self.customers_visited = self.customers_visited + 1\n",
        "        self.current_event = 1 # ('travel-'+str(self.customers_visited+1))\n",
        "\n",
        "        # Geenrar estimacion de espera / En esta version no se considera la espera\n",
        "        #wait_estimated = random.uniform(1,5)  # Revisar distribucion\n",
        "        wait_estimated = 0\n",
        "\n",
        "        # Crear el registro en trip_log\n",
        "        #'Cliente','orden_visita_real','duracion_viaje','tiempo_llegada','duracion_espera','posponer','tiempo_atencion','pedido','duracion_atencion','entregar','entregado'\n",
        "        self.trip_log.loc[self.customers_visited] = (customer, self.customers_visited, travel_time, self.env.now, wait_estimated,0,0,0,0,0,0)\n",
        "\n",
        "        #Actualizar la ubicacion y la hora actual\n",
        "        current_location = customer\n",
        "        self.current_time= self.env.now\n",
        "\n",
        "    def wait_customer(self, customer):   # ver como modificarlo para que pueda haber una consulta/decision\n",
        "        if (self.trip_log.at[self.customers_visited, 'posponer'] == 0):         \n",
        "          #print('Esperando en %s' % customer)\n",
        "          yield self.env.timeout(self.trip_log.at[self.customers_visited, 'duracion_espera'])  \n",
        "          self.current_event = 2 #'wait-'+str(self.customers_visited)        \n",
        "        else:\n",
        "          # se saltea el cliente por lo que hay que modificar la planificacion para volver luego\n",
        "          #print('Espera cancelada de %s' % customer)\n",
        "          self.cancel == 1\n",
        "          self.current_event = 3 #'salteado-'+str(self.customers_visited)\n",
        "\n",
        "          #actualizar la planificacion - POR EL MOMENTO SE ENVIA AL CLIENTE AL FINAL DE LA COLA\n",
        "          nuevaVisita = self.planning.set_index('orden').iloc[self.customers_visited]\n",
        "          self.planning=self.planning.append(nuevaVisita,ignore_index=True)\n",
        "          self.planning.at[self.planning.shape[0]-1, 'orden'] = self.planning.shape[0]\n",
        "\n",
        "        self.current_time= self.env.now\n",
        "\n",
        "    def check_order(self, customer): \n",
        "        #print('Consultando pedido en %s' % customer)\n",
        "\n",
        "        pedido_inicial = int(self.planning.set_index('idCliente').at[str(self.current_customerId),\"productosPedidos\"])\n",
        "        recibido_actual = int(self.planning.set_index('idCliente').at[str(self.current_customerId),\"productosRecibidos\"])\n",
        "        pedir = pedido_inicial - recibido_actual\n",
        "        \n",
        "        self.trip_log.at[self.customers_visited, 'pedido'] = pedir\n",
        "\n",
        "        yield self.env.timeout(1/60)\n",
        "\n",
        "        self.current_event = 4 #'check_order-'+str(self.customers_visited)\n",
        "\n",
        "        self.current_time= self.env.now\n",
        "\n",
        "\n",
        "\n",
        "\n",
        "    def deliver_products(self, customer):  \n",
        "        # Entregar productos, registrar y actualizar variables\n",
        "        #print('Despachando productos en %s' % customer)\n",
        "\n",
        "        entregar = int(self.trip_log.at[self.customers_visited, 'entregar'])\n",
        "        if (entregar>self.available_products):\n",
        "          entregar = self.available_products\n",
        "\n",
        "        deliver_time = entregar * sampler_triangular(rm(),rm())\n",
        "\n",
        "        self.available_products = self.available_products - entregar\n",
        "        self.trip_log.at[self.customers_visited, 'duracion_atencion'] = deliver_time\n",
        "        self.trip_log.at[self.customers_visited, 'entregado'] = entregar\n",
        "\n",
        "        recibido_ant = int(self.planning.set_index('idCliente').at[str(self.current_customerId),\"productosRecibidos\"])\n",
        "        #print('recibido_ant: ',recibido_ant)\n",
        "        #print('entregar: ',entregar)\n",
        "        self.planning.at[self.current_customerId,\"productosRecibidos\"] = recibido_ant + entregar\n",
        "        #print('recibido_ant + entregar: ',recibido_ant + entregar)\n",
        "\n",
        "        yield self.env.timeout(abs(deliver_time))\n",
        "\n",
        "        self.current_event = 5  #'deliver_products-'+str(self.customers_visited)\n",
        "        self.current_time= self.env.now\n",
        "\n",
        "        #print('Productos disponibles: ')\n",
        "        #print(self.available_products)\n"
      ]
    },
    {
      "cell_type": "markdown",
      "metadata": {
        "id": "Z_o1AfBQR7D6"
      },
      "source": [
        "______________________________\n",
        "# **Ensamble en un Python Environment de TF-Agents**\n",
        "\n",
        "Ensamble de la simulación de la instancia VRP en un Python Environment de TF-Agents"
      ]
    },
    {
      "cell_type": "markdown",
      "metadata": {
        "id": "kpGcwDaQD8lb"
      },
      "source": [
        "## Instalación e importación de librerías necesarias"
      ]
    },
    {
      "cell_type": "code",
      "execution_count": null,
      "metadata": {
        "colab": {
          "base_uri": "https://localhost:8080/"
        },
        "id": "EeGv4GHrR7XA",
        "outputId": "9f8765c1-d841-4124-d8e8-99a1afac9b95"
      },
      "outputs": [
        {
          "output_type": "stream",
          "name": "stdout",
          "text": [
            "Collecting tf-agents\n",
            "  Downloading tf_agents-0.12.1-py3-none-any.whl (1.3 MB)\n",
            "\u001b[?25l\r\u001b[K     |▎                               | 10 kB 6.2 MB/s eta 0:00:01\r\u001b[K     |▌                               | 20 kB 10.3 MB/s eta 0:00:01\r\u001b[K     |▊                               | 30 kB 7.8 MB/s eta 0:00:01\r\u001b[K     |█                               | 40 kB 3.6 MB/s eta 0:00:01\r\u001b[K     |█▎                              | 51 kB 3.6 MB/s eta 0:00:01\r\u001b[K     |█▌                              | 61 kB 4.3 MB/s eta 0:00:01\r\u001b[K     |█▊                              | 71 kB 4.5 MB/s eta 0:00:01\r\u001b[K     |██                              | 81 kB 4.7 MB/s eta 0:00:01\r\u001b[K     |██▎                             | 92 kB 5.3 MB/s eta 0:00:01\r\u001b[K     |██▌                             | 102 kB 4.3 MB/s eta 0:00:01\r\u001b[K     |██▊                             | 112 kB 4.3 MB/s eta 0:00:01\r\u001b[K     |███                             | 122 kB 4.3 MB/s eta 0:00:01\r\u001b[K     |███▎                            | 133 kB 4.3 MB/s eta 0:00:01\r\u001b[K     |███▌                            | 143 kB 4.3 MB/s eta 0:00:01\r\u001b[K     |███▊                            | 153 kB 4.3 MB/s eta 0:00:01\r\u001b[K     |████                            | 163 kB 4.3 MB/s eta 0:00:01\r\u001b[K     |████▎                           | 174 kB 4.3 MB/s eta 0:00:01\r\u001b[K     |████▌                           | 184 kB 4.3 MB/s eta 0:00:01\r\u001b[K     |████▊                           | 194 kB 4.3 MB/s eta 0:00:01\r\u001b[K     |█████                           | 204 kB 4.3 MB/s eta 0:00:01\r\u001b[K     |█████▎                          | 215 kB 4.3 MB/s eta 0:00:01\r\u001b[K     |█████▌                          | 225 kB 4.3 MB/s eta 0:00:01\r\u001b[K     |█████▊                          | 235 kB 4.3 MB/s eta 0:00:01\r\u001b[K     |██████                          | 245 kB 4.3 MB/s eta 0:00:01\r\u001b[K     |██████▎                         | 256 kB 4.3 MB/s eta 0:00:01\r\u001b[K     |██████▌                         | 266 kB 4.3 MB/s eta 0:00:01\r\u001b[K     |██████▊                         | 276 kB 4.3 MB/s eta 0:00:01\r\u001b[K     |███████                         | 286 kB 4.3 MB/s eta 0:00:01\r\u001b[K     |███████▎                        | 296 kB 4.3 MB/s eta 0:00:01\r\u001b[K     |███████▌                        | 307 kB 4.3 MB/s eta 0:00:01\r\u001b[K     |███████▊                        | 317 kB 4.3 MB/s eta 0:00:01\r\u001b[K     |████████                        | 327 kB 4.3 MB/s eta 0:00:01\r\u001b[K     |████████▎                       | 337 kB 4.3 MB/s eta 0:00:01\r\u001b[K     |████████▌                       | 348 kB 4.3 MB/s eta 0:00:01\r\u001b[K     |████████▊                       | 358 kB 4.3 MB/s eta 0:00:01\r\u001b[K     |█████████                       | 368 kB 4.3 MB/s eta 0:00:01\r\u001b[K     |█████████▎                      | 378 kB 4.3 MB/s eta 0:00:01\r\u001b[K     |█████████▌                      | 389 kB 4.3 MB/s eta 0:00:01\r\u001b[K     |█████████▊                      | 399 kB 4.3 MB/s eta 0:00:01\r\u001b[K     |██████████                      | 409 kB 4.3 MB/s eta 0:00:01\r\u001b[K     |██████████▎                     | 419 kB 4.3 MB/s eta 0:00:01\r\u001b[K     |██████████▌                     | 430 kB 4.3 MB/s eta 0:00:01\r\u001b[K     |██████████▊                     | 440 kB 4.3 MB/s eta 0:00:01\r\u001b[K     |███████████                     | 450 kB 4.3 MB/s eta 0:00:01\r\u001b[K     |███████████▎                    | 460 kB 4.3 MB/s eta 0:00:01\r\u001b[K     |███████████▌                    | 471 kB 4.3 MB/s eta 0:00:01\r\u001b[K     |███████████▊                    | 481 kB 4.3 MB/s eta 0:00:01\r\u001b[K     |████████████                    | 491 kB 4.3 MB/s eta 0:00:01\r\u001b[K     |████████████▎                   | 501 kB 4.3 MB/s eta 0:00:01\r\u001b[K     |████████████▌                   | 512 kB 4.3 MB/s eta 0:00:01\r\u001b[K     |████████████▊                   | 522 kB 4.3 MB/s eta 0:00:01\r\u001b[K     |█████████████                   | 532 kB 4.3 MB/s eta 0:00:01\r\u001b[K     |█████████████▎                  | 542 kB 4.3 MB/s eta 0:00:01\r\u001b[K     |█████████████▌                  | 552 kB 4.3 MB/s eta 0:00:01\r\u001b[K     |█████████████▉                  | 563 kB 4.3 MB/s eta 0:00:01\r\u001b[K     |██████████████                  | 573 kB 4.3 MB/s eta 0:00:01\r\u001b[K     |██████████████▎                 | 583 kB 4.3 MB/s eta 0:00:01\r\u001b[K     |██████████████▌                 | 593 kB 4.3 MB/s eta 0:00:01\r\u001b[K     |██████████████▉                 | 604 kB 4.3 MB/s eta 0:00:01\r\u001b[K     |███████████████                 | 614 kB 4.3 MB/s eta 0:00:01\r\u001b[K     |███████████████▎                | 624 kB 4.3 MB/s eta 0:00:01\r\u001b[K     |███████████████▌                | 634 kB 4.3 MB/s eta 0:00:01\r\u001b[K     |███████████████▉                | 645 kB 4.3 MB/s eta 0:00:01\r\u001b[K     |████████████████                | 655 kB 4.3 MB/s eta 0:00:01\r\u001b[K     |████████████████▎               | 665 kB 4.3 MB/s eta 0:00:01\r\u001b[K     |████████████████▌               | 675 kB 4.3 MB/s eta 0:00:01\r\u001b[K     |████████████████▉               | 686 kB 4.3 MB/s eta 0:00:01\r\u001b[K     |█████████████████               | 696 kB 4.3 MB/s eta 0:00:01\r\u001b[K     |█████████████████▎              | 706 kB 4.3 MB/s eta 0:00:01\r\u001b[K     |█████████████████▌              | 716 kB 4.3 MB/s eta 0:00:01\r\u001b[K     |█████████████████▉              | 727 kB 4.3 MB/s eta 0:00:01\r\u001b[K     |██████████████████              | 737 kB 4.3 MB/s eta 0:00:01\r\u001b[K     |██████████████████▎             | 747 kB 4.3 MB/s eta 0:00:01\r\u001b[K     |██████████████████▌             | 757 kB 4.3 MB/s eta 0:00:01\r\u001b[K     |██████████████████▉             | 768 kB 4.3 MB/s eta 0:00:01\r\u001b[K     |███████████████████             | 778 kB 4.3 MB/s eta 0:00:01\r\u001b[K     |███████████████████▎            | 788 kB 4.3 MB/s eta 0:00:01\r\u001b[K     |███████████████████▌            | 798 kB 4.3 MB/s eta 0:00:01\r\u001b[K     |███████████████████▉            | 808 kB 4.3 MB/s eta 0:00:01\r\u001b[K     |████████████████████            | 819 kB 4.3 MB/s eta 0:00:01\r\u001b[K     |████████████████████▎           | 829 kB 4.3 MB/s eta 0:00:01\r\u001b[K     |████████████████████▌           | 839 kB 4.3 MB/s eta 0:00:01\r\u001b[K     |████████████████████▉           | 849 kB 4.3 MB/s eta 0:00:01\r\u001b[K     |█████████████████████           | 860 kB 4.3 MB/s eta 0:00:01\r\u001b[K     |█████████████████████▎          | 870 kB 4.3 MB/s eta 0:00:01\r\u001b[K     |█████████████████████▌          | 880 kB 4.3 MB/s eta 0:00:01\r\u001b[K     |█████████████████████▉          | 890 kB 4.3 MB/s eta 0:00:01\r\u001b[K     |██████████████████████          | 901 kB 4.3 MB/s eta 0:00:01\r\u001b[K     |██████████████████████▎         | 911 kB 4.3 MB/s eta 0:00:01\r\u001b[K     |██████████████████████▌         | 921 kB 4.3 MB/s eta 0:00:01\r\u001b[K     |██████████████████████▉         | 931 kB 4.3 MB/s eta 0:00:01\r\u001b[K     |███████████████████████         | 942 kB 4.3 MB/s eta 0:00:01\r\u001b[K     |███████████████████████▎        | 952 kB 4.3 MB/s eta 0:00:01\r\u001b[K     |███████████████████████▌        | 962 kB 4.3 MB/s eta 0:00:01\r\u001b[K     |███████████████████████▉        | 972 kB 4.3 MB/s eta 0:00:01\r\u001b[K     |████████████████████████        | 983 kB 4.3 MB/s eta 0:00:01\r\u001b[K     |████████████████████████▎       | 993 kB 4.3 MB/s eta 0:00:01\r\u001b[K     |████████████████████████▌       | 1.0 MB 4.3 MB/s eta 0:00:01\r\u001b[K     |████████████████████████▉       | 1.0 MB 4.3 MB/s eta 0:00:01\r\u001b[K     |█████████████████████████       | 1.0 MB 4.3 MB/s eta 0:00:01\r\u001b[K     |█████████████████████████▎      | 1.0 MB 4.3 MB/s eta 0:00:01\r\u001b[K     |█████████████████████████▌      | 1.0 MB 4.3 MB/s eta 0:00:01\r\u001b[K     |█████████████████████████▉      | 1.1 MB 4.3 MB/s eta 0:00:01\r\u001b[K     |██████████████████████████      | 1.1 MB 4.3 MB/s eta 0:00:01\r\u001b[K     |██████████████████████████▎     | 1.1 MB 4.3 MB/s eta 0:00:01\r\u001b[K     |██████████████████████████▋     | 1.1 MB 4.3 MB/s eta 0:00:01\r\u001b[K     |██████████████████████████▉     | 1.1 MB 4.3 MB/s eta 0:00:01\r\u001b[K     |███████████████████████████     | 1.1 MB 4.3 MB/s eta 0:00:01\r\u001b[K     |███████████████████████████▎    | 1.1 MB 4.3 MB/s eta 0:00:01\r\u001b[K     |███████████████████████████▋    | 1.1 MB 4.3 MB/s eta 0:00:01\r\u001b[K     |███████████████████████████▉    | 1.1 MB 4.3 MB/s eta 0:00:01\r\u001b[K     |████████████████████████████    | 1.1 MB 4.3 MB/s eta 0:00:01\r\u001b[K     |████████████████████████████▎   | 1.2 MB 4.3 MB/s eta 0:00:01\r\u001b[K     |████████████████████████████▋   | 1.2 MB 4.3 MB/s eta 0:00:01\r\u001b[K     |████████████████████████████▉   | 1.2 MB 4.3 MB/s eta 0:00:01\r\u001b[K     |█████████████████████████████   | 1.2 MB 4.3 MB/s eta 0:00:01\r\u001b[K     |█████████████████████████████▎  | 1.2 MB 4.3 MB/s eta 0:00:01\r\u001b[K     |█████████████████████████████▋  | 1.2 MB 4.3 MB/s eta 0:00:01\r\u001b[K     |█████████████████████████████▉  | 1.2 MB 4.3 MB/s eta 0:00:01\r\u001b[K     |██████████████████████████████  | 1.2 MB 4.3 MB/s eta 0:00:01\r\u001b[K     |██████████████████████████████▎ | 1.2 MB 4.3 MB/s eta 0:00:01\r\u001b[K     |██████████████████████████████▋ | 1.2 MB 4.3 MB/s eta 0:00:01\r\u001b[K     |██████████████████████████████▉ | 1.3 MB 4.3 MB/s eta 0:00:01\r\u001b[K     |███████████████████████████████ | 1.3 MB 4.3 MB/s eta 0:00:01\r\u001b[K     |███████████████████████████████▎| 1.3 MB 4.3 MB/s eta 0:00:01\r\u001b[K     |███████████████████████████████▋| 1.3 MB 4.3 MB/s eta 0:00:01\r\u001b[K     |███████████████████████████████▉| 1.3 MB 4.3 MB/s eta 0:00:01\r\u001b[K     |████████████████████████████████| 1.3 MB 4.3 MB/s \n",
            "\u001b[?25hRequirement already satisfied: gin-config>=0.4.0 in /usr/local/lib/python3.7/dist-packages (from tf-agents) (0.5.0)\n",
            "Requirement already satisfied: tensorflow-probability>=0.16.0 in /usr/local/lib/python3.7/dist-packages (from tf-agents) (0.16.0)\n",
            "Requirement already satisfied: wrapt>=1.11.1 in /usr/local/lib/python3.7/dist-packages (from tf-agents) (1.14.0)\n",
            "Requirement already satisfied: absl-py>=0.6.1 in /usr/local/lib/python3.7/dist-packages (from tf-agents) (1.0.0)\n",
            "Requirement already satisfied: gym>=0.17.0 in /usr/local/lib/python3.7/dist-packages (from tf-agents) (0.17.3)\n",
            "Requirement already satisfied: six>=1.10.0 in /usr/local/lib/python3.7/dist-packages (from tf-agents) (1.15.0)\n",
            "Collecting pygame==2.1.0\n",
            "  Downloading pygame-2.1.0-cp37-cp37m-manylinux_2_17_x86_64.manylinux2014_x86_64.whl (18.3 MB)\n",
            "\u001b[K     |████████████████████████████████| 18.3 MB 80 kB/s \n",
            "\u001b[?25hRequirement already satisfied: protobuf>=3.11.3 in /usr/local/lib/python3.7/dist-packages (from tf-agents) (3.17.3)\n",
            "Requirement already satisfied: typing-extensions>=3.7.4.3 in /usr/local/lib/python3.7/dist-packages (from tf-agents) (4.2.0)\n",
            "Requirement already satisfied: pillow in /usr/local/lib/python3.7/dist-packages (from tf-agents) (7.1.2)\n",
            "Requirement already satisfied: cloudpickle>=1.3 in /usr/local/lib/python3.7/dist-packages (from tf-agents) (1.3.0)\n",
            "Requirement already satisfied: numpy>=1.13.3 in /usr/local/lib/python3.7/dist-packages (from tf-agents) (1.21.6)\n",
            "Requirement already satisfied: pyglet<=1.5.0,>=1.4.0 in /usr/local/lib/python3.7/dist-packages (from gym>=0.17.0->tf-agents) (1.5.0)\n",
            "Requirement already satisfied: scipy in /usr/local/lib/python3.7/dist-packages (from gym>=0.17.0->tf-agents) (1.4.1)\n",
            "Requirement already satisfied: future in /usr/local/lib/python3.7/dist-packages (from pyglet<=1.5.0,>=1.4.0->gym>=0.17.0->tf-agents) (0.16.0)\n",
            "Requirement already satisfied: dm-tree in /usr/local/lib/python3.7/dist-packages (from tensorflow-probability>=0.16.0->tf-agents) (0.1.7)\n",
            "Requirement already satisfied: decorator in /usr/local/lib/python3.7/dist-packages (from tensorflow-probability>=0.16.0->tf-agents) (4.4.2)\n",
            "Requirement already satisfied: gast>=0.3.2 in /usr/local/lib/python3.7/dist-packages (from tensorflow-probability>=0.16.0->tf-agents) (0.5.3)\n",
            "Installing collected packages: pygame, tf-agents\n",
            "Successfully installed pygame-2.1.0 tf-agents-0.12.1\n"
          ]
        }
      ],
      "source": [
        "#!pip install --upgrade pip\n",
        "#!pip install --upgrade tensorflow\n",
        "!pip install tf-agents"
      ]
    },
    {
      "cell_type": "code",
      "execution_count": null,
      "metadata": {
        "id": "NSLU_7yiSMi2"
      },
      "outputs": [],
      "source": [
        "from __future__ import absolute_import\n",
        "from __future__ import division\n",
        "from __future__ import print_function\n",
        "\n",
        "import abc\n",
        "import tensorflow as tf\n",
        "#import numpy as np\n",
        "\n",
        "from tf_agents.environments import py_environment\n",
        "from tf_agents.environments import tf_environment\n",
        "from tf_agents.environments import tf_py_environment\n",
        "from tf_agents.environments import utils\n",
        "from tf_agents.specs import array_spec\n",
        "#from tf_agents.environments import wrappers\n",
        "#from tf_agents.environments import suite_gym\n",
        "from tf_agents.trajectories import time_step as ts"
      ]
    },
    {
      "cell_type": "code",
      "execution_count": null,
      "metadata": {
        "colab": {
          "base_uri": "https://localhost:8080/",
          "height": 81
        },
        "id": "JNcDfMNufCov",
        "outputId": "903292eb-cb0b-4ae9-9a11-3efc48cdee07"
      },
      "outputs": [
        {
          "output_type": "execute_result",
          "data": {
            "text/plain": [
              "               Cliente orden_visita_real duracion_viaje tiempo_llegada  \\\n",
              "1  La Blanq y D Gaspar                 1              9              9   \n",
              "\n",
              "  duracion_espera posponer tiempo_atencion pedido duracion_atencion entregar  \\\n",
              "1               0        0               0      0                 0        0   \n",
              "\n",
              "  entregado  \n",
              "1         0  "
            ],
            "text/html": [
              "\n",
              "  <div id=\"df-ee39b5fe-41a1-4d78-9d19-5b2d29f92669\">\n",
              "    <div class=\"colab-df-container\">\n",
              "      <div>\n",
              "<style scoped>\n",
              "    .dataframe tbody tr th:only-of-type {\n",
              "        vertical-align: middle;\n",
              "    }\n",
              "\n",
              "    .dataframe tbody tr th {\n",
              "        vertical-align: top;\n",
              "    }\n",
              "\n",
              "    .dataframe thead th {\n",
              "        text-align: right;\n",
              "    }\n",
              "</style>\n",
              "<table border=\"1\" class=\"dataframe\">\n",
              "  <thead>\n",
              "    <tr style=\"text-align: right;\">\n",
              "      <th></th>\n",
              "      <th>Cliente</th>\n",
              "      <th>orden_visita_real</th>\n",
              "      <th>duracion_viaje</th>\n",
              "      <th>tiempo_llegada</th>\n",
              "      <th>duracion_espera</th>\n",
              "      <th>posponer</th>\n",
              "      <th>tiempo_atencion</th>\n",
              "      <th>pedido</th>\n",
              "      <th>duracion_atencion</th>\n",
              "      <th>entregar</th>\n",
              "      <th>entregado</th>\n",
              "    </tr>\n",
              "  </thead>\n",
              "  <tbody>\n",
              "    <tr>\n",
              "      <th>1</th>\n",
              "      <td>La Blanq y D Gaspar</td>\n",
              "      <td>1</td>\n",
              "      <td>9</td>\n",
              "      <td>9</td>\n",
              "      <td>0</td>\n",
              "      <td>0</td>\n",
              "      <td>0</td>\n",
              "      <td>0</td>\n",
              "      <td>0</td>\n",
              "      <td>0</td>\n",
              "      <td>0</td>\n",
              "    </tr>\n",
              "  </tbody>\n",
              "</table>\n",
              "</div>\n",
              "      <button class=\"colab-df-convert\" onclick=\"convertToInteractive('df-ee39b5fe-41a1-4d78-9d19-5b2d29f92669')\"\n",
              "              title=\"Convert this dataframe to an interactive table.\"\n",
              "              style=\"display:none;\">\n",
              "        \n",
              "  <svg xmlns=\"http://www.w3.org/2000/svg\" height=\"24px\"viewBox=\"0 0 24 24\"\n",
              "       width=\"24px\">\n",
              "    <path d=\"M0 0h24v24H0V0z\" fill=\"none\"/>\n",
              "    <path d=\"M18.56 5.44l.94 2.06.94-2.06 2.06-.94-2.06-.94-.94-2.06-.94 2.06-2.06.94zm-11 1L8.5 8.5l.94-2.06 2.06-.94-2.06-.94L8.5 2.5l-.94 2.06-2.06.94zm10 10l.94 2.06.94-2.06 2.06-.94-2.06-.94-.94-2.06-.94 2.06-2.06.94z\"/><path d=\"M17.41 7.96l-1.37-1.37c-.4-.4-.92-.59-1.43-.59-.52 0-1.04.2-1.43.59L10.3 9.45l-7.72 7.72c-.78.78-.78 2.05 0 2.83L4 21.41c.39.39.9.59 1.41.59.51 0 1.02-.2 1.41-.59l7.78-7.78 2.81-2.81c.8-.78.8-2.07 0-2.86zM5.41 20L4 18.59l7.72-7.72 1.47 1.35L5.41 20z\"/>\n",
              "  </svg>\n",
              "      </button>\n",
              "      \n",
              "  <style>\n",
              "    .colab-df-container {\n",
              "      display:flex;\n",
              "      flex-wrap:wrap;\n",
              "      gap: 12px;\n",
              "    }\n",
              "\n",
              "    .colab-df-convert {\n",
              "      background-color: #E8F0FE;\n",
              "      border: none;\n",
              "      border-radius: 50%;\n",
              "      cursor: pointer;\n",
              "      display: none;\n",
              "      fill: #1967D2;\n",
              "      height: 32px;\n",
              "      padding: 0 0 0 0;\n",
              "      width: 32px;\n",
              "    }\n",
              "\n",
              "    .colab-df-convert:hover {\n",
              "      background-color: #E2EBFA;\n",
              "      box-shadow: 0px 1px 2px rgba(60, 64, 67, 0.3), 0px 1px 3px 1px rgba(60, 64, 67, 0.15);\n",
              "      fill: #174EA6;\n",
              "    }\n",
              "\n",
              "    [theme=dark] .colab-df-convert {\n",
              "      background-color: #3B4455;\n",
              "      fill: #D2E3FC;\n",
              "    }\n",
              "\n",
              "    [theme=dark] .colab-df-convert:hover {\n",
              "      background-color: #434B5C;\n",
              "      box-shadow: 0px 1px 3px 1px rgba(0, 0, 0, 0.15);\n",
              "      filter: drop-shadow(0px 1px 2px rgba(0, 0, 0, 0.3));\n",
              "      fill: #FFFFFF;\n",
              "    }\n",
              "  </style>\n",
              "\n",
              "      <script>\n",
              "        const buttonEl =\n",
              "          document.querySelector('#df-ee39b5fe-41a1-4d78-9d19-5b2d29f92669 button.colab-df-convert');\n",
              "        buttonEl.style.display =\n",
              "          google.colab.kernel.accessAllowed ? 'block' : 'none';\n",
              "\n",
              "        async function convertToInteractive(key) {\n",
              "          const element = document.querySelector('#df-ee39b5fe-41a1-4d78-9d19-5b2d29f92669');\n",
              "          const dataTable =\n",
              "            await google.colab.kernel.invokeFunction('convertToInteractive',\n",
              "                                                     [key], {});\n",
              "          if (!dataTable) return;\n",
              "\n",
              "          const docLinkHtml = 'Like what you see? Visit the ' +\n",
              "            '<a target=\"_blank\" href=https://colab.research.google.com/notebooks/data_table.ipynb>data table notebook</a>'\n",
              "            + ' to learn more about interactive tables.';\n",
              "          element.innerHTML = '';\n",
              "          dataTable['output_type'] = 'display_data';\n",
              "          await google.colab.output.renderOutput(dataTable, element);\n",
              "          const docLink = document.createElement('div');\n",
              "          docLink.innerHTML = docLinkHtml;\n",
              "          element.appendChild(docLink);\n",
              "        }\n",
              "      </script>\n",
              "    </div>\n",
              "  </div>\n",
              "  "
            ]
          },
          "metadata": {},
          "execution_count": 31
        }
      ],
      "source": [
        "df_viaje"
      ]
    },
    {
      "cell_type": "markdown",
      "metadata": {
        "id": "dWmq3aX7EH5R"
      },
      "source": [
        "\n",
        "## Implementación de la clase 'TSPEnv'\n",
        "\n",
        "Esta clase implementa un entorno para aprendizaje por refuerzo utilizando la API de PyEnvironment de la librería TF-Agents.\n",
        "\n"
      ]
    },
    {
      "cell_type": "code",
      "execution_count": null,
      "metadata": {
        "id": "Vo0xVyeYSaPF"
      },
      "outputs": [],
      "source": [
        "\n",
        "class TSPEnv(py_environment.PyEnvironment):\n",
        "\n",
        "  def __init__(self, planning, estimated_time, reward_discount=1.1):\n",
        "\n",
        "    self.planning = planning\n",
        "    self.estimated_time = estimated_time\n",
        "    self.reward_discount = reward_discount\n",
        "    self.customers = len(self.planning.index)\n",
        "\n",
        "    #Componentes de la acción/decisión:\n",
        "    #1- Define la cantidad de productos a entregar a un cliente. Opciones: 0:no entregar; 1:entregar solo lo estimado;  2:entregar lo solicitado\n",
        "    #2- Define el proximo destino\n",
        "    self._action_spec = array_spec.BoundedArraySpec(\n",
        "        shape=(2,), dtype=np.int32, minimum=[0,0], maximum=[2,self.customers], name='action')\n",
        "    \n",
        "    #Datos que debería ver el agente en cada paso:\n",
        "    #-#1- Evento:\n",
        "        #0: Inicio del recorrido\n",
        "        #1: llegada al cliente\n",
        "        #2: termina espera y es atendido\n",
        "        #3: cliente salteado (indica cómo reorganiza??)\n",
        "        #4: pedido registrado\n",
        "        #5: entrega realizada\n",
        "        #6: llegada a deposito. FIN\n",
        "    #2- Número del Cliente actual\n",
        "    #3- Tiempo actual\n",
        "    #4- Mercadería disponible\n",
        "    #5- Pedido del cliente (si corresponde, sino 0)\n",
        "    #-#6- Cantidad entregada (si corresponde, sino 0)\n",
        "    self._observation_spec = array_spec.BoundedArraySpec(\n",
        "        shape=(4,), dtype=np.float32, minimum=0, name='observation')\n",
        "    \n",
        "    self.env = simpy.Environment()\n",
        "    self.vehicle = Vehicle(self.env, capacity_vehicle_1, available_products_vehicle_1, df_tiempos, self.planning, df_viaje, warehouse_vehicle_1)\n",
        "    \n",
        "    #self._state = np.array([0,0,0,self.vehicle.available_products,0,0])\n",
        "    self._state = [0,0,self.vehicle.available_products,0]\n",
        "    self._episode_ended = False\n",
        "    self.old_event = self.event = self.new_event= None\n",
        "\n",
        "  def action_spec(self):\n",
        "    return self._action_spec\n",
        "\n",
        "  def observation_spec(self):\n",
        "    return self._observation_spec\n",
        "\n",
        "\n",
        "  def reward_spec(self): \n",
        "    \"\"\"Defines the rewards that are returned by `step()`.\n",
        "    Override this method to define an environment that uses non-standard reward\n",
        "    values, for example an environment with array-valued rewards.\n",
        "    Returns:\n",
        "      An `ArraySpec`, or a nested dict, list or tuple of `ArraySpec`s.\n",
        "    \"\"\"\n",
        "    return array_spec.ArraySpec(shape=(), dtype=np.float32, name='reward')\n",
        "\n",
        "\n",
        "  def time_step_spec(self) -> ts.TimeStep:\n",
        "    \"\"\"Describes the `TimeStep` fields returned by `step()`.\n",
        "    Override this method to define an environment that uses non-standard values\n",
        "    for any of the items returned by `step()`. For example, an environment with\n",
        "    array-valued rewards.\n",
        "    Returns:\n",
        "      A `TimeStep` namedtuple containing (possibly nested) `ArraySpec`s defining\n",
        "      the step_type, reward, discount, and observation structure.\n",
        "    \"\"\"\n",
        "    return ts.time_step_spec(self.observation_spec(), self.reward_spec())\n",
        "\n",
        "\n",
        "  def _reset(self):\n",
        "    # Resetea la simulacion y ejecuta el paso inicial\n",
        "    self.env = simpy.Environment()\n",
        "    self.vehicle = Vehicle(self.env, capacity_vehicle_1, available_products_vehicle_1, df_tiempos, self.planning, df_viaje, warehouse_vehicle_1)\n",
        "    self.env.process(self.vehicle.run(self.env))\n",
        "    self.env.step()\n",
        "    self.event = self.new_event = self.vehicle.current_event\n",
        "\n",
        "    # Actualiza el estado y devuelve la observacion inicial\n",
        "    #self._state = np.array([0,0,0,self.vehicle.available_products,0,0])\n",
        "    self._state = [0,0,self.vehicle.available_products,0]\n",
        "    self._episode_ended = False\n",
        "    return ts.restart(np.array(self._state, dtype=np.float32),reward_spec=array_spec.ArraySpec(shape=(), dtype=np.float32))\n",
        "\n",
        "\n",
        "\n",
        "\n",
        "  def _step(self, action):\n",
        "\n",
        "    action = tf.cast(action, tf.int32)\n",
        "    action = action.numpy()\n",
        "    self.old_event = self.event\n",
        "    current_customer = self.vehicle.current_customerId\n",
        "    next_customer = action[1]\n",
        "\n",
        "    if self._episode_ended:\n",
        "      # The last action ended the episode. Ignore the current action and start\n",
        "      # a new episode.\n",
        "      return self.reset()\n",
        "\n",
        "    # Make sure episodes don't go on forever.\n",
        "    if self.vehicle.current_event == 6:\n",
        "      self._episode_ended = True\n",
        "\n",
        "    else:\n",
        "      #print('acciones: ',action[0],'  ',action[1],' evento actual: ',self.vehicle.current_event)\n",
        "      if self.vehicle.current_event == 4: # DEFINIR CANTIDAD A ENTREGAR\n",
        "        if (action[0] == 0): #NADA\n",
        "          entregar = 0\n",
        "        elif (action[0] == 1): # solo la mitad de lo que pide  ##OLD:  SOLO LO ESTIMADO\n",
        "          #copy_planing = self.vehicle.planning.copy()\n",
        "          #entregar = copy_planing.sort_values('idCliente').at[self.vehicle.current_customerId-1, 'productosEstimados']\n",
        "          entregar = int(self.vehicle.trip_log.at[self.vehicle.customers_visited, 'pedido'])\n",
        "          entregar = entregar/2\n",
        "        else: # TODO LO QUE PIDIÓ\n",
        "          entregar = int(self.vehicle.trip_log.at[self.vehicle.customers_visited, 'pedido'])\n",
        "        self.vehicle.trip_log.at[self.vehicle.customers_visited, 'entregar'] = entregar\n",
        "\n",
        "      elif (self.vehicle.current_event == 5 or self.vehicle.current_event == 0):\n",
        "        #Definir a que cliente viaja o si termina el recorrido\n",
        "        self.vehicle.set_next_customer(action[1])\n",
        "\n",
        "      #AVANZAR sim HASTA PROXIMO EVENTO\n",
        "      until = 1000\n",
        "      while (self.event == self.new_event or self.new_event == 1) and (self.env.peek() < until): # \"env.peek() < until\" controla que no haya llegado al fin la ejecucion (peek da el tiempo del proximo evento)\n",
        "           self.env.step()\n",
        "           self.new_event= self.vehicle.current_event\n",
        "      self.event = self.new_event\n",
        "\n",
        "      #ACTUALIZAR EL ESTADO EL ENTORNO  [ Evento, Número del Cliente actual, Tiempo actual, Tiempo de espera estimado , Pedido del cliente, entregado ]\n",
        "      #self._state = np.array([self.vehicle.current_event,self.vehicle.current_customerId,self.vehicle.current_time,self.vehicle.available_products,self.vehicle.trip_log.at[self.vehicle.customers_visited, 'pedido'],self.vehicle.trip_log.at[self.vehicle.customers_visited, 'entregado']])\n",
        "      #self._state = [self.vehicle.current_event,self.vehicle.current_customerId,self.vehicle.current_time,self.vehicle.available_products,self.vehicle.trip_log.at[self.vehicle.customers_visited, 'pedido'],self.vehicle.trip_log.at[self.vehicle.customers_visited, 'entregado']]\n",
        "      self._state = [self.vehicle.current_customerId,self.vehicle.current_time,self.vehicle.available_products,self.vehicle.trip_log.at[self.vehicle.customers_visited, 'pedido']]\n",
        "      #print(self._state)\n",
        "\n",
        "    # Ver si esto es necesario mas adelante\n",
        "    #else:\n",
        "    #  raise ValueError('`action` should be 0 or 1.')\n",
        "\n",
        "    if self._episode_ended:\n",
        "      # DEFINIR LA O LAS RECOMPENSAS!!!!!!\n",
        "      pedido = self.vehicle.trip_log['pedido'].to_numpy(dtype=int)\n",
        "      entregado = self.vehicle.trip_log['entregado'].to_numpy(dtype=int)\n",
        "      \n",
        "      satisfaccion = sum(pedido-entregado)\n",
        "      satisfaccion = -(satisfaccion**2)\n",
        "      #satisfaccion= -((sum(pedido-entregado))**2) #revisar formula\n",
        "      #tiempos= self.estimated_time - self.vehicle.current_time\n",
        "\n",
        "      recompensa = satisfaccion * (self.reward_discount**(self.vehicle.current_time/60)) #revisar formula\n",
        "\n",
        "      # sumar penalizacion por clientes no visitados\n",
        "      \n",
        "      recibidos = self.vehicle.planning['productosRecibidos'].to_numpy(dtype=int)\n",
        "      clientes_sin_entrega = recibidos.size - np.count_nonzero(recibidos)\n",
        "      clientes_sin_entrega = clientes_sin_entrega * (-40)\n",
        "      recompensa = recompensa + clientes_sin_entrega\n",
        "\n",
        "      recompensa = (sum(entregado) + clientes_sin_entrega)\n",
        "\n",
        "      #Descuento o aumento por tiempo transcurrido\n",
        "      if (recompensa>0): recompensa = recompensa * (0.9**(self.vehicle.current_time/60)) \n",
        "      else: recompensa = recompensa * (1.1**(self.vehicle.current_time/60)) \n",
        "      \n",
        "      #print('fin')\n",
        "      #print('total time: ',self.vehicle.current_time)\n",
        "      #print(self.vehicle.planning)\n",
        "      #print(self.vehicle.trip_log)\n",
        "      reward = np.array(recompensa,dtype=np.float32) \n",
        "\n",
        "      #return ts.termination(np.array(self._state, dtype=np.float32), reward)\n",
        "      return ts.TimeStep(step_type= ts.StepType.LAST, reward=reward,  discount=np.array(0.0,dtype=np.float32),  observation=np.array(self._state, dtype=np.float32))\n",
        "    else:\n",
        "      if (current_customer == next_customer): recompensa_cambio_cliente = -1\n",
        "      else: recompensa_cambio_cliente = 1\n",
        "\n",
        "      if (action[0] == 0): recompensa_entrega = -1\n",
        "      elif (action[0] == 1): recompensa_entrega = 1\n",
        "      else: recompensa_entrega = 2\n",
        "      \n",
        "      #si el evento era 0 o 5 la recompensa debe ser sobre la eleccion del proximo cliente\n",
        "      if (self.old_event == 5 or self.old_event == 0): recompensa_entrega = 0\n",
        "      #si el evento era 4 la recompensa debe ser sobre la entrega\n",
        "      elif (self.old_event == 4): recompensa_cambio_cliente = 0\n",
        "\n",
        "      recompensa_intermedios = (recompensa_cambio_cliente*10) + (recompensa_entrega*5)\n",
        "\n",
        "      return ts.TimeStep(step_type= ts.StepType.MID, reward=np.array(recompensa_intermedios,dtype=np.float32),  discount=np.array(0.0,dtype=np.float32), observation=np.array(self._state, dtype=np.float32))"
      ]
    },
    {
      "cell_type": "markdown",
      "metadata": {
        "id": "Got0hS9auyTC"
      },
      "source": [
        "____________________\n",
        "# **Agente PPO**\n",
        "\n",
        "Implementación del Agente PPO"
      ]
    },
    {
      "cell_type": "markdown",
      "metadata": {
        "id": "J5B-E9rovJLv"
      },
      "source": [
        "## Importación de librerías necesarias\n",
        "\n"
      ]
    },
    {
      "cell_type": "code",
      "execution_count": null,
      "metadata": {
        "id": "yimeWLImaC0p"
      },
      "outputs": [],
      "source": [
        "#!pip install tf-agents[reverb]\n",
        "#!pip install reverb\n",
        "#!pip install -force-reinstall tf-agents[reverb]\n",
        "#!pip install dm-reverb[tensorflow]"
      ]
    },
    {
      "cell_type": "code",
      "execution_count": null,
      "metadata": {
        "id": "unU5J-PCuy3N"
      },
      "outputs": [],
      "source": [
        "#import base64\n",
        "#import imageio\n",
        "#import IPython\n",
        "#import matplotlib.pyplot as plt\n",
        "#import os\n",
        "#import reverb\n",
        "#import tempfile\n",
        "#import PIL.Image\n",
        "\n",
        "#import mock\n",
        "import tensorflow as tf\n",
        "\n",
        "from tf_agents.agents.ddpg import critic_network\n",
        "from tf_agents.agents.ddpg import critic_rnn_network\n",
        "from tf_agents.agents.sac import sac_agent\n",
        "from tf_agents.agents.sac import tanh_normal_projection_network\n",
        "from tf_agents.networks import actor_distribution_network\n",
        "from tf_agents.networks import actor_distribution_rnn_network\n",
        "from tf_agents.networks import nest_map\n",
        "from tf_agents.networks import network\n",
        "from tf_agents.networks import sequential\n",
        "from tf_agents.specs import tensor_spec\n",
        "from tf_agents.trajectories import policy_step\n",
        "from tf_agents.trajectories import time_step as ts\n",
        "from tf_agents.trajectories import trajectory\n",
        "from tf_agents.utils import common\n",
        "\n",
        "from tf_agents.metrics import py_metrics\n",
        "from tf_agents.policies import greedy_policy\n",
        "from tf_agents.policies import py_tf_eager_policy\n",
        "from tf_agents.policies import random_py_policy\n",
        "from tf_agents.policies import random_tf_policy\n",
        "from tf_agents.replay_buffers import reverb_replay_buffer\n",
        "from tf_agents.replay_buffers import reverb_utils\n",
        "from tf_agents.train import actor\n",
        "from tf_agents.train import learner\n",
        "from tf_agents.train import triggers\n",
        "from tf_agents.train.utils import spec_utils\n",
        "from tf_agents.train.utils import strategy_utils\n",
        "from tf_agents.train.utils import train_utils\n",
        "\n",
        "import os\n",
        "import time\n",
        "\n",
        "from tf_agents.agents.ppo import ppo_clip_agent\n",
        "from tf_agents.agents.ppo import ppo_agent\n",
        "from tf_agents.drivers import dynamic_episode_driver\n",
        "from tf_agents.environments import parallel_py_environment\n",
        "from tf_agents.environments import suite_mujoco\n",
        "from tf_agents.environments import tf_py_environment\n",
        "from tf_agents.eval import metric_utils\n",
        "from tf_agents.metrics import tf_metrics\n",
        "from tf_agents.networks import actor_distribution_network\n",
        "from tf_agents.networks import categorical_projection_network\n",
        "from tf_agents.networks import actor_distribution_rnn_network\n",
        "from tf_agents.networks import value_network\n",
        "from tf_agents.networks import value_rnn_network\n",
        "from tf_agents.policies import policy_saver\n",
        "from tf_agents.replay_buffers import tf_uniform_replay_buffer\n",
        "from tf_agents.replay_buffers import episodic_replay_buffer\n",
        "\n",
        "from tf_agents.system import system_multiprocessing as multiprocessing\n",
        "from tf_agents.utils import common\n",
        "\n",
        "import tf_agents.networks\n",
        "\n",
        "from tf_agents.agents.ppo import ppo_actor_network\n",
        "from tf_agents.agents.ppo import ppo_clip_agent\n",
        "from tf_agents.train import learner\n",
        "from tf_agents.train import ppo_learner"
      ]
    },
    {
      "cell_type": "markdown",
      "metadata": {
        "id": "Ja7mrOWD0jcM"
      },
      "source": [
        "## Hyperparameters"
      ]
    },
    {
      "cell_type": "code",
      "execution_count": null,
      "metadata": {
        "id": "lPP6xj3kopAP"
      },
      "outputs": [],
      "source": [
        "batch_size = 1 # @param {type:\"integer\"}\n",
        "n_step_update = 2  # @param {type:\"integer\"}\n",
        "\n",
        "gamma = 0.99 # @param {type:\"number\"}\n",
        "reward_scale_factor = 1.0 # @param {type:\"number\"}\n",
        "policy_save_interval = 500 # @param {type:\"integer\"}\n",
        "####\n",
        "\n",
        "#\n",
        "estimated_time_VRPenvironment = 130\n",
        "\n",
        "# Root directory for writing logs/summaries/checkpoints.\n",
        "root_dir = os.getenv('TEST_UNDECLARED_OUTPUTS_DIR')\n",
        "\n",
        "# Number of environments to run in parallel\n",
        "num_parallel_environments = 30\n",
        "\n",
        "# Params for simple nets\n",
        "actor_fc_layers=(8, 26)\n",
        "value_fc_layers=(8, 20)\n",
        "\n",
        "# Params for value RNN net\n",
        "v_input_fc_layer_params=(8,)\n",
        "v_lstm_size=(16,)\n",
        "v_output_fc_layer_params=(4,)\n",
        "\n",
        "# Params for actor RNN net\n",
        "a_input_fc_layer_params=(8,)\n",
        "a_lstm_size=(26,)\n",
        "a_output_fc_layer_params=(13,)\n",
        "\n",
        "#replay_buffer_capacity=1001  # Per-environment\n",
        "\n",
        "# Params for train\n",
        "num_epochs= 50\n",
        "learning_rate= 1e-4\n",
        "optimizer = tf.compat.v1.train.AdamOptimizer(learning_rate=learning_rate)\n",
        "\n",
        "# Params for summaries and logging\n",
        "train_checkpoint_interval=500\n",
        "policy_checkpoint_interval=500\n",
        "\n",
        "\n",
        "summary_interval=50\n",
        "summaries_flush_secs=1\n",
        "use_tf_functions=True\n",
        "debug_summaries=False\n",
        "summarize_grads_and_vars=False"
      ]
    },
    {
      "cell_type": "markdown",
      "metadata": {
        "id": "XBnRuIw02fXw"
      },
      "source": [
        "## Entorno (Environment)\n",
        "\n",
        "Los entornos en la RL representan la tarea o el problema que estamos tratando de resolver.\n",
        "\n",
        "En este caso vamos a instanciar el entorno utilizando la clase creada TSPEnv."
      ]
    },
    {
      "cell_type": "code",
      "execution_count": null,
      "metadata": {
        "colab": {
          "base_uri": "https://localhost:8080/"
        },
        "id": "9yeaJETb2f3K",
        "outputId": "6efbdfaf-6746-420f-bc83-4a8314971170"
      },
      "outputs": [
        {
          "output_type": "execute_result",
          "data": {
            "text/plain": [
              "TimeStep(\n",
              "{'discount': array(1., dtype=float32),\n",
              " 'observation': array([  0.,   0., 410.,   0.], dtype=float32),\n",
              " 'reward': array(0., dtype=float32),\n",
              " 'step_type': array(0, dtype=int32)})"
            ]
          },
          "metadata": {},
          "execution_count": 36
        }
      ],
      "source": [
        "env = TSPEnv(df_planificacion,130)\n",
        "env.reset()"
      ]
    },
    {
      "cell_type": "markdown",
      "metadata": {
        "id": "_ZA4bKYj4ge2"
      },
      "source": [
        "Este entorno implementa un problema VRP de entrega de mercadería. \n",
        "El objetivo es que el agente entrene una política que controlará el vehículo para que visite a los clientes y entregue la mercadería, buscando minimizar el tiempo de recorrido y maximizar la satisfacción de los clentes (cumplir con la demanda). El vehículo tiene una restricción de capacidad y un tiempo esperado de viaje. \n",
        "\n",
        "En cada episodio el vehículo parte del depósito y finaliza el recorrido al regresar al mismo. El retorno será **( ..... completar)** \n",
        "\n",
        "\n",
        "A continuación se puede ver la información que proporciona el entorno como una `observación` que la política utilizará para generar `acciones`."
      ]
    },
    {
      "cell_type": "code",
      "execution_count": null,
      "metadata": {
        "colab": {
          "base_uri": "https://localhost:8080/"
        },
        "id": "kGPyJJ1H4g2b",
        "outputId": "d0b20a77-324f-4f1f-efc0-975a316d5910"
      },
      "outputs": [
        {
          "output_type": "stream",
          "name": "stdout",
          "text": [
            "Observation Spec:\n",
            "BoundedArraySpec(shape=(4,), dtype=dtype('float32'), name='observation', minimum=0.0, maximum=3.4028234663852886e+38)\n",
            "Action Spec:\n",
            "BoundedArraySpec(shape=(2,), dtype=dtype('int32'), name='action', minimum=[0 0], maximum=[2 9])\n"
          ]
        }
      ],
      "source": [
        "print('Observation Spec:')\n",
        "print(env.time_step_spec().observation)\n",
        "print('Action Spec:')\n",
        "print(env.action_spec())"
      ]
    },
    {
      "cell_type": "markdown",
      "metadata": {
        "id": "NMdu5aJW7FtB"
      },
      "source": [
        "Descripción de la observación y de las acciones permitidas............\n",
        "\n"
      ]
    },
    {
      "cell_type": "markdown",
      "metadata": {
        "id": "83H4LI2C7NSL"
      },
      "source": [
        "Se crean dos entornos: uno para recopilar datos durante el entrenamiento y otro para realizar la evaluación."
      ]
    },
    {
      "cell_type": "code",
      "execution_count": null,
      "metadata": {
        "colab": {
          "base_uri": "https://localhost:8080/"
        },
        "id": "jJZr7anM7NqJ",
        "outputId": "fe46062d-cb17-4d37-9ded-9215cb836b52"
      },
      "outputs": [
        {
          "output_type": "execute_result",
          "data": {
            "text/plain": [
              "TimeStep(\n",
              "{'discount': array(1., dtype=float32),\n",
              " 'observation': array([  0.,   0., 410.,   0.], dtype=float32),\n",
              " 'reward': array(0., dtype=float32),\n",
              " 'step_type': array(0, dtype=int32)})"
            ]
          },
          "metadata": {},
          "execution_count": 38
        }
      ],
      "source": [
        "collect_env = TSPEnv(df_planificacion,130)\n",
        "collect_env.reset()\n",
        "eval_env = TSPEnv(df_planificacion,130)\n",
        "eval_env.reset()\n",
        "train_env = TSPEnv(df_planificacion,130)\n",
        "train_env.reset()"
      ]
    },
    {
      "cell_type": "code",
      "execution_count": null,
      "metadata": {
        "id": "PS5R6OAPtALk"
      },
      "outputs": [],
      "source": [
        "train_TFenv = tf_py_environment.TFPyEnvironment(train_env)\n",
        "collect_TFenv = tf_py_environment.TFPyEnvironment(collect_env)\n",
        "eval_TFenv = tf_py_environment.TFPyEnvironment(eval_env)\n"
      ]
    },
    {
      "cell_type": "markdown",
      "metadata": {
        "id": "Da-z2yF66FR9"
      },
      "source": [
        "## Distribution Strategy\n",
        "We use the DistributionStrategy API to enable running the train step computation across multiple devices such as multiple GPUs or TPUs using data parallelism. The train step:\n",
        "* Receives a batch of training data\n",
        "* Splits it across the devices\n",
        "* Computes the forward step\n",
        "* Aggregates and computes the MEAN of the loss\n",
        "* Computes the backward step and performs a gradient variable update\n",
        "\n",
        "With TF-Agents Learner API and DistributionStrategy API it is quite easy to switch between running the train step on GPUs (using MirroredStrategy) to TPUs (using TPUStrategy) without changing any of the training logic below.\n",
        "\n",
        "\n",
        "### Enabling the GPU\n",
        "If you want to try running on a GPU, you'll first need to enable GPUs for the notebook:\n",
        "\n",
        "* Navigate to Edit→Notebook Settings\n",
        "* Select GPU from the Hardware Accelerator drop-down"
      ]
    },
    {
      "cell_type": "markdown",
      "metadata": {
        "id": "Kc5BvLlEDACQ"
      },
      "source": [
        "### Picking a strategy\n",
        "Use `strategy_utils` to generate a strategy. Under the hood, passing the parameter:\n",
        "* `use_gpu = False` returns `tf.distribute.get_strategy()`, which uses CPU\n",
        "* `use_gpu = True` returns `tf.distribute.MirroredStrategy()`, which uses all GPUs that are visible to TensorFlow on one machine"
      ]
    },
    {
      "cell_type": "code",
      "execution_count": null,
      "metadata": {
        "colab": {
          "base_uri": "https://localhost:8080/"
        },
        "id": "mH9Burb3DPm6",
        "outputId": "e9892fd9-4cf0-4192-fe9e-852b145085bf"
      },
      "outputs": [
        {
          "output_type": "stream",
          "name": "stdout",
          "text": [
            "INFO:tensorflow:Using MirroredStrategy with devices ('/job:localhost/replica:0/task:0/device:GPU:0',)\n"
          ]
        },
        {
          "output_type": "stream",
          "name": "stderr",
          "text": [
            "INFO:tensorflow:Using MirroredStrategy with devices ('/job:localhost/replica:0/task:0/device:GPU:0',)\n"
          ]
        }
      ],
      "source": [
        "use_gpu = True #@param {type:\"boolean\"}\n",
        "\n",
        "strategy = strategy_utils.get_strategy(tpu=False, use_gpu=use_gpu)"
      ]
    },
    {
      "cell_type": "markdown",
      "metadata": {
        "id": "fMn5FTs5kHvt"
      },
      "source": [
        "All variables and Agents need to be created under `strategy.scope()`."
      ]
    },
    {
      "cell_type": "markdown",
      "metadata": {
        "id": "pr7W4ZptEn7r"
      },
      "source": [
        "## Agent\n",
        "\n",
        "To create an SAC Agent, we first need to create the networks that it will train. SAC is an actor-critic agent, so we will need two networks.\n",
        "\n",
        "The critic will give us value estimates for `Q(s,a)`. That is, it will recieve as input an observation and an action, and it will give us an estimate of how good that action was for the given state."
      ]
    },
    {
      "cell_type": "code",
      "execution_count": null,
      "metadata": {
        "id": "mR4ewP2HbssL"
      },
      "outputs": [],
      "source": [
        "from tf_agents.networks import utils as network_utils\n",
        "\n",
        "class DummyValueNet(network.Network):\n",
        "\n",
        "  def __init__(self,\n",
        "               observation_spec,\n",
        "               preprocessing_layers=None,\n",
        "               name=None,\n",
        "               outer_rank=1):\n",
        "    super(DummyValueNet, self).__init__(observation_spec, (), 'DummyValueNet')\n",
        "    self._outer_rank = outer_rank\n",
        "    self._dummy_layers = (preprocessing_layers or []) + [\n",
        "        tf.keras.layers.Dense(\n",
        "            1,\n",
        "            kernel_initializer=tf.constant_initializer([6, 1, 6, 1, 6, 1]),\n",
        "            bias_initializer=tf.constant_initializer([5]))\n",
        "    ]\n",
        "\n",
        "  def call(self, inputs, step_type=None, network_state=()):\n",
        "    del step_type\n",
        "    print('inputs: ', inputs)\n",
        "    hidden_state = tf.cast(tf.nest.flatten(inputs), tf.float32)[0]\n",
        "    batch_squash = network_utils.BatchSquash(self._outer_rank)\n",
        "    hidden_state = batch_squash.flatten(hidden_state)\n",
        "    for layer in self._dummy_layers:\n",
        "      hidden_state = layer(hidden_state)\n",
        "    #value_pred = batch_squash.unflatten(hidden_state)\n",
        "    value_pred = tf.squeeze(batch_squash.unflatten(hidden_state), axis=-1)\n",
        "    print('value pred: ', value_pred)\n",
        "    return value_pred, network_state"
      ]
    },
    {
      "cell_type": "code",
      "execution_count": null,
      "metadata": {
        "id": "tPeklh_LDfB0"
      },
      "outputs": [],
      "source": [
        "observation_spec, action_spec, time_step_spec = (\n",
        "      spec_utils.get_tensor_specs(collect_env))\n",
        "\n",
        "#observation_spec = tensor_spec.TensorSpec([6], tf.float32)\n",
        "#time_step_spec = ts.time_step_spec(observation_spec)\n",
        "#action_spec = tensor_spec.BoundedTensorSpec([3], tf.int32, 0, 10)\n",
        "# action_spec = array_spec.BoundedArraySpec(shape=(3,), dtype=np.int32, minimum=0, name='action')\n",
        "\n",
        "with strategy.scope():\n",
        "  value_net = value_network.ValueNetwork(\n",
        "          observation_spec,\n",
        "          fc_layer_params=value_fc_layers,\n",
        "          dropout_layer_params=None,\n",
        "               activation_fn=tf.keras.activations.relu,\n",
        "               kernel_initializer=None,\n",
        "               batch_squash=True,\n",
        "               dtype=tf.float32,\n",
        "               name='ValueNetwork')\n",
        "\n",
        "  value_rnn_net = value_rnn_network.ValueRnnNetwork(\n",
        "                  observation_spec,\n",
        "                  input_fc_layer_params = v_input_fc_layer_params,\n",
        "                  lstm_size = v_lstm_size,\n",
        "                  output_fc_layer_params = v_output_fc_layer_params,\n",
        "                  activation_fn=tf.keras.activations.relu,\n",
        "                  dtype=tf.float32,\n",
        "                  name='ValueRNNNetwork')\n",
        "\n",
        "#with strategy.scope():\n",
        "#  value_net = DummyValueNet(observation_spec)\n"
      ]
    },
    {
      "cell_type": "code",
      "execution_count": null,
      "metadata": {
        "colab": {
          "base_uri": "https://localhost:8080/"
        },
        "id": "0WV6Q1roezxF",
        "outputId": "5dc30a35-c7f2-4b5d-b305-898ee4cef356"
      },
      "outputs": [
        {
          "output_type": "execute_result",
          "data": {
            "text/plain": [
              "BoundedTensorSpec(shape=(4,), dtype=tf.float32, name='observation', minimum=array(0., dtype=float32), maximum=array(3.4028235e+38, dtype=float32))"
            ]
          },
          "metadata": {},
          "execution_count": 43
        }
      ],
      "source": [
        "observation_spec"
      ]
    },
    {
      "cell_type": "code",
      "execution_count": null,
      "metadata": {
        "colab": {
          "base_uri": "https://localhost:8080/"
        },
        "id": "UJCNpvILam14",
        "outputId": "94dee4e4-623f-437e-e76c-d8402ffb1206"
      },
      "outputs": [
        {
          "output_type": "execute_result",
          "data": {
            "text/plain": [
              "<tf_agents.networks.value_network.ValueNetwork at 0x7f24552266d0>"
            ]
          },
          "metadata": {},
          "execution_count": 44
        }
      ],
      "source": [
        "value_net\n"
      ]
    },
    {
      "cell_type": "markdown",
      "metadata": {
        "id": "ur-EeyvJE2E-"
      },
      "source": [
        "We will use this critic to train an `actor` network which will allow us to generate actions given an observation.\n",
        "\n",
        "The `ActorNetwork` will predict parameters for a tanh-squashed [MultivariateNormalDiag](https://www.tensorflow.org/probability/api_docs/python/tfp/distributions/MultivariateNormalDiag) distribution. This distribution will then be sampled, conditioned on the current observation, whenever we need to generate actions."
      ]
    },
    {
      "cell_type": "code",
      "execution_count": null,
      "metadata": {
        "colab": {
          "base_uri": "https://localhost:8080/"
        },
        "id": "KWNihO2oT_no",
        "outputId": "caeed987-1b25-4591-b5b0-b9d3279e2bd4"
      },
      "outputs": [
        {
          "output_type": "execute_result",
          "data": {
            "text/plain": [
              "array([2, 9], dtype=int32)"
            ]
          },
          "metadata": {},
          "execution_count": 45
        }
      ],
      "source": [
        "np.sum(9)\n",
        "np.sum(action_spec.maximum)\n",
        "action_spec.maximum"
      ]
    },
    {
      "cell_type": "code",
      "execution_count": null,
      "metadata": {
        "id": "DTqUiRN5L3Ii"
      },
      "outputs": [],
      "source": [
        "import gin\n",
        "import numpy as np \n",
        "import tensorflow as tf\n",
        "import tensorflow_probability as tfp\n",
        "\n",
        "from tf_agents.networks import network\n",
        "from tf_agents.networks import utils\n",
        "from tf_agents.specs import tensor_spec\n",
        "from tf_agents.specs import distribution_spec\n",
        "\n",
        "class MultiCategoricalDistributionBlock(tfp.distributions.Blockwise):\n",
        "\n",
        "    def __init__(self, logits, categories_shape):\n",
        "        self.categories_shape = categories_shape\n",
        "        distribs = self._create_distrib(logits)\n",
        "        super().__init__(distributions = distribs)\n",
        "        self._add_logits_to_params(logits)\n",
        "\n",
        "    def _create_distrib(self, logits):\n",
        "        logits = tf.split(logits, self.categories_shape, -1)\n",
        "        distribs = [tfp.distributions.Categorical(logits = logits_split) for \n",
        "                        logits_split in logits]\n",
        "        return distribs\n",
        "\n",
        "    def _mode(self):\n",
        "        return self._flatten_and_concat_event(\n",
        "            self._distribution.mode()\n",
        "        )\n",
        "    \n",
        "    def _add_logits_to_params(self, logits):\n",
        "        self._parameters['logits'] = logits\n",
        "\n",
        "@gin.configurable\n",
        "class MultiCategoricalProjectionNetwork(network.DistributionNetwork):\n",
        "    \"\"\"Generates a set of tfp.distribution.Categorical by predicting logits\"\"\"\n",
        "    def __init__(self, \n",
        "                 sample_spec, \n",
        "                 logits_init_output_factor=0.1,\n",
        "                 name='MultiCategoricalProjectionNetwork'):\n",
        "    \n",
        "        \"\"\"Creates an instance of MultiCategoricalProjectionNetwork\n",
        "        Args:\n",
        "          sample_spec: A `tensor_spec.BoundedTensorSpec` detailing the shape\n",
        "            dtypes of samples pulled from the output distribution.\n",
        "          logits_init_output_factor: Output factor for initializing kernal \n",
        "            logits weights.\n",
        "          name: A string representing the name of the network.\n",
        "        \"\"\"\n",
        "\n",
        "        self.categories_shape = sample_spec.maximum+1\n",
        "        self.n_unique_categories = np.sum(self.categories_shape)\n",
        "\n",
        "        output_spec = self._output_distribution_spec([self.n_unique_categories], sample_spec, name)\n",
        "\n",
        "        super(MultiCategoricalProjectionNetwork, self).__init__(\n",
        "            input_tensor_spec=None,\n",
        "            state_spec = (),\n",
        "            output_spec=output_spec,\n",
        "            name=name\n",
        "        )\n",
        "\n",
        "        if not tensor_spec.is_bounded(sample_spec):\n",
        "            raise ValueError(\n",
        "                'sample_spec must be bounded. Got: %s.' % type(sample_spec))\n",
        "\n",
        "        if not tensor_spec.is_discrete(sample_spec):\n",
        "            raise ValueError('sample_spec must be discrete. Got: %s.' % sample_spec)        \n",
        "\n",
        "        self._sample_spec = sample_spec\n",
        "\n",
        "        self._projection_layer = tf.keras.layers.Dense(\n",
        "            self.n_unique_categories,\n",
        "            kernel_initializer=tf.compat.v1.keras.initializers.VarianceScaling(\n",
        "                scale=logits_init_output_factor),\n",
        "            bias_initializer=tf.keras.initializers.Zeros(),\n",
        "            name='logits'\n",
        "            )       \n",
        "\n",
        "    def _output_distribution_spec(self, output_shape, sample_spec, network_name):\n",
        "        input_param_spec = {\n",
        "            'logits':\n",
        "                tensor_spec.TensorSpec(\n",
        "                    shape=output_shape,\n",
        "                    dtype=tf.float32,\n",
        "                    name=network_name + '_logits'\n",
        "                )\n",
        "        }\n",
        "        return distribution_spec.DistributionSpec(\n",
        "            MultiCategoricalDistributionBlock,\n",
        "            input_param_spec,\n",
        "            sample_spec=sample_spec,\n",
        "            categories_shape = self.categories_shape)\n",
        "\n",
        "    def call(self, inputs, outer_rank, training=False, mask=None):\n",
        "        #masks not implemented yet\n",
        "        \n",
        "        batch_squash = utils.BatchSquash(outer_rank)\n",
        "        inputs = batch_squash.flatten(inputs)\n",
        "        inputs = tf.cast(inputs, tf.float32)\n",
        "\n",
        "        logits = self._projection_layer(inputs, training=training)\n",
        "        logits = tf.reshape(logits, [-1] + [self.n_unique_categories])\n",
        "        logits = batch_squash.unflatten(logits)\n",
        "\n",
        "        return self.output_spec.build_distribution(logits= logits), ()"
      ]
    },
    {
      "cell_type": "code",
      "execution_count": null,
      "metadata": {
        "id": "ibyGBFj8S6sB"
      },
      "outputs": [],
      "source": [
        "\n",
        "def _get_inputs(batch_size, num_input_dims):\n",
        "  return tf.random.uniform([batch_size, num_input_dims])\n",
        "\n",
        "output_spec = tensor_spec.BoundedTensorSpec([2,], tf.int32, 0, maximum=[2, 9])\n",
        "categorical_network = MultiCategoricalProjectionNetwork(output_spec)\n",
        "\n",
        "inputs = _get_inputs(batch_size=2, num_input_dims=9)\n"
      ]
    },
    {
      "cell_type": "code",
      "execution_count": null,
      "metadata": {
        "id": "ip3byMX9TxQP"
      },
      "outputs": [],
      "source": [
        "def multi_categorical_projection_net(action_spec, logits_init_output_factor=0.1):\n",
        "  return MultiCategoricalProjectionNetwork(action_spec, logits_init_output_factor=logits_init_output_factor)"
      ]
    },
    {
      "cell_type": "code",
      "execution_count": null,
      "metadata": {
        "id": "xLmE1zzzE2gj"
      },
      "outputs": [],
      "source": [
        "with strategy.scope():\n",
        "  actor_net = actor_distribution_network.ActorDistributionNetwork(\n",
        "      input_tensor_spec=observation_spec,\n",
        "      output_tensor_spec=action_spec,\n",
        "      fc_layer_params=actor_fc_layers,\n",
        "      discrete_projection_net= multi_categorical_projection_net) #(inputs, outer_rank=1)\n",
        "\n",
        "  actor_rnn_net = actor_distribution_rnn_network.ActorDistributionRnnNetwork(\n",
        "      input_tensor_spec=observation_spec,\n",
        "      output_tensor_spec=action_spec, \n",
        "      input_fc_layer_params=a_input_fc_layer_params,\n",
        "      lstm_size=a_lstm_size,\n",
        "      output_fc_layer_params=a_output_fc_layer_params,\n",
        "      activation_fn=tf.keras.activations.relu,\n",
        "      dtype=tf.float32,\n",
        "      discrete_projection_net=multi_categorical_projection_net,\n",
        "      name='ActorDistributionRnnNetwork')\n",
        "               "
      ]
    },
    {
      "cell_type": "markdown",
      "metadata": {
        "id": "haeZMw4tFfCw"
      },
      "source": [
        "With these networks at hand we can now instantiate the agent.\n"
      ]
    },
    {
      "cell_type": "code",
      "execution_count": null,
      "metadata": {
        "colab": {
          "base_uri": "https://localhost:8080/"
        },
        "id": "mNFrd7INxCfZ",
        "outputId": "856ace5b-cef9-4c4e-981c-7077c628a568",
        "scrolled": false
      },
      "outputs": [
        {
          "output_type": "stream",
          "name": "stderr",
          "text": [
            "WARNING:absl:Only tf.keras.optimizers.Optimiers are well supported, got a non-TF2 optimizer: <tensorflow.python.training.adam.AdamOptimizer object at 0x7f24572bf050>\n"
          ]
        }
      ],
      "source": [
        "with strategy.scope():\n",
        "  train_step = train_utils.create_train_step()\n",
        "\n",
        "  tf_agent = ppo_agent.PPOAgent(\n",
        "        time_step_spec,\n",
        "        action_spec,\n",
        "        optimizer,\n",
        "        actor_net = actor_rnn_net, #actor_net=actor_net,\n",
        "        value_net = value_rnn_net, #value_net=value_net,\n",
        "        entropy_regularization=0.0,\n",
        "        importance_ratio_clipping=0.0,\n",
        "        normalize_observations=False,\n",
        "        normalize_rewards=False,\n",
        "        use_gae=True,\n",
        "        num_epochs=num_epochs,\n",
        "        initial_adaptive_kl_beta = 0.0,\n",
        "        kl_cutoff_factor = 0.0,\n",
        "        compute_value_and_advantage_in_train = True, #ver\n",
        "        debug_summaries=debug_summaries,\n",
        "        summarize_grads_and_vars=summarize_grads_and_vars,\n",
        "        train_step_counter=train_step)\n",
        "  \n",
        "  tf_agent.initialize()"
      ]
    },
    {
      "cell_type": "code",
      "execution_count": null,
      "metadata": {
        "colab": {
          "base_uri": "https://localhost:8080/"
        },
        "id": "t92jXgW3RpOi",
        "outputId": "459f1169-046c-4fbc-d812-889f0642160a"
      },
      "outputs": [
        {
          "output_type": "execute_result",
          "data": {
            "text/plain": [
              "DistributionSpec(builder=<class '__main__.MultiCategoricalDistributionBlock'>, input_params_spec={'logits': TensorSpec(shape=(13,), dtype=tf.float32, name='MultiCategoricalProjectionNetwork_logits')}, sample_spec=BoundedTensorSpec(shape=(2,), dtype=tf.int32, name='action', minimum=array([0, 0], dtype=int32), maximum=array([2, 9], dtype=int32)))"
            ]
          },
          "metadata": {},
          "execution_count": 51
        }
      ],
      "source": [
        "actor_net.output_spec"
      ]
    },
    {
      "cell_type": "markdown",
      "metadata": {
        "id": "9EX-Y616ADUh"
      },
      "source": [
        "## Metrics and Evaluation\n",
        "\n",
        "The most common metric used to evaluate a policy is the average return. The return is the sum of rewards obtained while running a policy in an environment for an episode, and we usually average this over a few episodes. We can compute the average return metric as follows."
      ]
    },
    {
      "cell_type": "code",
      "execution_count": null,
      "metadata": {
        "colab": {
          "base_uri": "https://localhost:8080/"
        },
        "id": "D9gPUYpX28tz",
        "outputId": "0b083f7c-ba73-4f07-bfe4-000082f58e73"
      },
      "outputs": [
        {
          "output_type": "execute_result",
          "data": {
            "text/plain": [
              "124.24913711547852"
            ]
          },
          "metadata": {},
          "execution_count": 52
        }
      ],
      "source": [
        "num_eval_episodes = 10\n",
        "#@test {\"skip\": true}\n",
        "def compute_avg_return(environment, policy, num_episodes=10):\n",
        "\n",
        "  total_return = 0.0\n",
        "  for _ in range(num_episodes):\n",
        "\n",
        "    time_step = environment.reset()\n",
        "    episode_return = 0.0\n",
        "\n",
        "    while not time_step.is_last():\n",
        "      action_step = policy.action(time_step)\n",
        "      time_step = environment.step(action_step.action)\n",
        "      episode_return += time_step.reward\n",
        "    total_return += episode_return\n",
        "\n",
        "  avg_return = total_return / num_episodes\n",
        "  return avg_return\n",
        "\n",
        "random_policy = random_py_policy.RandomPyPolicy(\n",
        "  train_env.time_step_spec(), train_env.action_spec())\n",
        "\n",
        "#random_policy = random_tf_policy.RandomTFPolicy(train_env.time_step_spec(),\n",
        "#                                                train_env.action_spec())\n",
        "\n",
        "compute_avg_return(eval_env, random_policy, num_eval_episodes)\n",
        "\n",
        "# Please also see the metrics module for standard implementations of different\n",
        "# metrics."
      ]
    },
    {
      "cell_type": "markdown",
      "metadata": {
        "id": "l5jqBCEfXubH"
      },
      "source": [
        "_______________________\n",
        "\n",
        "\n",
        "# **Entrenamiento**"
      ]
    },
    {
      "cell_type": "code",
      "execution_count": null,
      "metadata": {
        "id": "b7_iouBJXu2F"
      },
      "outputs": [],
      "source": [
        "from __future__ import absolute_import, division, print_function\n",
        "\n",
        "import base64\n",
        "import numpy as np\n",
        "\n",
        "import tensorflow as tf\n",
        "\n",
        "from tf_agents.agents.dqn import dqn_agent\n",
        "from tf_agents.drivers import dynamic_step_driver\n",
        "from tf_agents.environments import tf_py_environment\n",
        "from tf_agents.eval import metric_utils\n",
        "from tf_agents.metrics import tf_metrics\n",
        "from tf_agents.networks import q_network\n",
        "from tf_agents.networks import q_rnn_network\n",
        "from tf_agents.policies import random_tf_policy\n",
        "from tf_agents.replay_buffers import tf_uniform_replay_buffer\n",
        "from tf_agents.replay_buffers import episodic_replay_buffer\n",
        "from tf_agents.trajectories import trajectory\n",
        "from tf_agents.utils import common\n",
        "\n",
        "#from SimpleMemEnv import Environment as Env\n",
        "from tf_agents.environments import wrappers\n",
        "\n",
        "from tf_agents.policies import policy_saver\n",
        "\n",
        "def compute_avg_return(environment, policy, num_episodes=20, policy_state=()):\n",
        "\n",
        "  total_return = 0.0\n",
        "  for _ in range(num_episodes):\n",
        "\n",
        "    time_step = environment.reset()\n",
        "    episode_return = 0.0\n",
        "\n",
        "\n",
        "    while not time_step.is_last():\n",
        "      if policy_state:\n",
        "          action_step = policy.action(time_step, policy_state)\n",
        "          policy_state = action_step.state\n",
        "      else:\n",
        "          action_step = policy.action(time_step)\n",
        "\n",
        "      time_step = environment.step(action_step.action)\n",
        "      episode_return += time_step.reward\n",
        "    total_return += episode_return\n",
        "\n",
        "  avg_return = total_return / num_episodes\n",
        "  return avg_return.numpy()[0]\n",
        "\n",
        "\n",
        "def collect_step(environment, policy, buffer, id, policy_state):\n",
        "  time_step = environment.current_time_step()\n",
        "  if policy_state: #len(policy_state.numpy()[0]): #len(policy_state[0].numpy()[0]): #policy_state: # \n",
        "      action_step = policy.action(time_step, policy_state)\n",
        "      #print('info policy: ', action_step.state)\n",
        "      if action_step.info == (): \n",
        "        action_step = action_step.replace(info=policy_state)\n",
        "        #print('info policyyyy: ', action_step.info)\n",
        "      if action_step.state != ():  \n",
        "        policy_state = action_step.state\n",
        "  else:\n",
        "      action_step = policy.action(time_step)\n",
        "\n",
        "  next_time_step = environment.step(action_step.action)\n",
        "  traj = trajectory.from_transition(time_step, action_step, next_time_step)\n",
        "  #print(traj) ###\n",
        "\n",
        "  id_tensor = tf.constant(id, dtype=tf.int64)\n",
        "  buffer.add_batch(traj, id_tensor)\n",
        "  if time_step.is_last():\n",
        "      id[0] += 1\n",
        "\n",
        "  return policy_state\n",
        "\n",
        "def collect_data(env, policy, buffer, steps, id, policy_state = ()):#policy_state_base):\n",
        "  #if type(policy_state) == tuple: policy_state = policy_state_base\n",
        "  for _ in range(steps):\n",
        "    policy_state = collect_step(env, policy, buffer, id, policy_state)\n",
        "\n",
        "  return policy_state\n",
        "    \n",
        "\n"
      ]
    },
    {
      "cell_type": "code",
      "execution_count": null,
      "metadata": {
        "id": "W9Zk78RE1Tu0"
      },
      "outputs": [],
      "source": [
        "tf.compat.v1.enable_v2_behavior()\n",
        "\n",
        "num_iterations = 1500\n",
        "collect_steps_per_iteration = 30\n",
        "initial_collect_steps = 1000\n",
        "replay_buffer_capacity = 100000\n",
        "batch_size = 55 \n",
        "\n",
        "log_interval = 50 \n",
        "num_eval_episodes = 10\n",
        "eval_interval = 50  \n",
        "\n",
        "\n",
        "#collect_env = TSPEnv(df_planificacion,130)\n",
        "#eval_env = TSPEnv(df_planificacion,130)\n",
        "#train_env = TSPEnv(df_planificacion,130)\n",
        "\n",
        "\n",
        "train_py_env  = TSPEnv(df_planificacion,130)\n",
        "eval_py_env  = TSPEnv(df_planificacion,130)\n",
        "\n",
        "train_env = tf_py_environment.TFPyEnvironment(train_py_env)\n",
        "train_env.reset()\n",
        "eval_env = tf_py_environment.TFPyEnvironment(eval_py_env)\n",
        "eval_env.reset()\n",
        "    \n",
        "agent = tf_agent\n",
        "agent.initialize()\n",
        "\n",
        "random_policy = random_tf_policy.RandomTFPolicy(train_env.time_step_spec(),\n",
        "                                                train_env.action_spec())\n",
        "\n",
        "replay_buffer = episodic_replay_buffer.EpisodicReplayBuffer(\n",
        "    data_spec= agent.collect_data_spec, #agent.training_data_spec, \n",
        "    capacity = replay_buffer_capacity,\n",
        "    completed_only = True,\n",
        "    buffer_size=2)"
      ]
    },
    {
      "cell_type": "code",
      "execution_count": null,
      "metadata": {
        "colab": {
          "base_uri": "https://localhost:8080/"
        },
        "id": "uomlkDQaMkZx",
        "outputId": "22e205f9-a2d5-49b3-aa3a-6dd557389b33"
      },
      "outputs": [
        {
          "output_type": "execute_result",
          "data": {
            "text/plain": [
              "_TupleWrapper(Trajectory(\n",
              "{'action': BoundedTensorSpec(shape=(2,), dtype=tf.int32, name='action', minimum=array([0, 0], dtype=int32), maximum=array([2, 9], dtype=int32)),\n",
              " 'discount': BoundedTensorSpec(shape=(), dtype=tf.float32, name='discount', minimum=array(0., dtype=float32), maximum=array(1., dtype=float32)),\n",
              " 'next_step_type': TensorSpec(shape=(), dtype=tf.int32, name='step_type'),\n",
              " 'observation': BoundedTensorSpec(shape=(4,), dtype=tf.float32, name='observation', minimum=array(0., dtype=float32), maximum=array(3.4028235e+38, dtype=float32)),\n",
              " 'policy_info': {'dist_params': {'logits': TensorSpec(shape=(13,), dtype=tf.float32, name='MultiCategoricalProjectionNetwork_logits')}},\n",
              " 'reward': TensorSpec(shape=(), dtype=tf.float32, name='reward'),\n",
              " 'step_type': TensorSpec(shape=(), dtype=tf.int32, name='step_type')}))"
            ]
          },
          "metadata": {},
          "execution_count": 56
        }
      ],
      "source": [
        "#agent.training_data_spec\n",
        "agent.collect_data_spec"
      ]
    },
    {
      "cell_type": "code",
      "execution_count": null,
      "metadata": {
        "colab": {
          "base_uri": "https://localhost:8080/"
        },
        "id": "b2YbK5MFA0j1",
        "outputId": "e5e24061-abfb-4614-d38e-882ab73004a1"
      },
      "outputs": [
        {
          "output_type": "stream",
          "name": "stdout",
          "text": [
            "step = 0: Average Return = 0\n"
          ]
        }
      ],
      "source": [
        "episode_id = [0]\n",
        "\n",
        "policy_state = agent.policy.get_initial_state(batch_size=train_env.batch_size)\n",
        "collect_policy_state = agent.collect_policy.get_initial_state(batch_size=train_env.batch_size)\n",
        "\n",
        "#collect_data(train_env, random_policy, replay_buffer, initial_collect_steps, episode_id, collect_policy_state) \n",
        "#collect_data(train_env, agent.policy, replay_buffer, initial_collect_steps, episode_id, policy_state)\n",
        "\n",
        "# Dataset generates trajectories with shape [Bx2x...]\n",
        "dataset = replay_buffer.as_dataset(\n",
        "    sample_batch_size=None,\n",
        "    num_steps=None)\n",
        "\n",
        "iterator = iter(dataset)\n",
        "\n",
        "# (Optional) Optimize by wrapping some of the code in a graph using TF function.\n",
        "agent.train = common.function(agent.train)\n",
        "\n",
        "# Reset the train step\n",
        "agent.train_step_counter.assign(0)\n",
        "\n",
        "# Evaluate the agent's policy once before training.\n",
        "avg_return = 0\n",
        "returns = [avg_return]\n",
        "\n",
        "print('step = {0}: Average Return = {1}'.format(0, avg_return))"
      ]
    },
    {
      "cell_type": "code",
      "execution_count": null,
      "metadata": {
        "colab": {
          "base_uri": "https://localhost:8080/"
        },
        "id": "LgCvZ9h23uEo",
        "outputId": "b3e5d3f7-00d3-49c2-8c7a-e86a881efa12"
      },
      "outputs": [
        {
          "output_type": "execute_result",
          "data": {
            "text/plain": [
              "DictWrapper({'actor_network_state': ListWrapper([<tf.Tensor: shape=(1, 26), dtype=float32, numpy=\n",
              "array([[0., 0., 0., 0., 0., 0., 0., 0., 0., 0., 0., 0., 0., 0., 0., 0.,\n",
              "        0., 0., 0., 0., 0., 0., 0., 0., 0., 0.]], dtype=float32)>, <tf.Tensor: shape=(1, 26), dtype=float32, numpy=\n",
              "array([[0., 0., 0., 0., 0., 0., 0., 0., 0., 0., 0., 0., 0., 0., 0., 0.,\n",
              "        0., 0., 0., 0., 0., 0., 0., 0., 0., 0.]], dtype=float32)>])})"
            ]
          },
          "metadata": {},
          "execution_count": 59
        }
      ],
      "source": [
        "collect_policy_state"
      ]
    },
    {
      "cell_type": "code",
      "execution_count": null,
      "metadata": {
        "id": "ugWPPoe2rNCC"
      },
      "outputs": [],
      "source": [
        "step = 0\n",
        "train_loss = None\n",
        "value_estimation_loss = 0\n",
        "policy_gradient_loss = 0\n",
        "loss = 0\n",
        "\n",
        "for _ in range(num_iterations):\n",
        "  # Collect a few steps using collect_policy and save to the replay buffer.\n",
        "  collect_policy_state = collect_data(train_env,\n",
        "                                   agent.collect_policy,\n",
        "                                   replay_buffer,\n",
        "                                   collect_steps_per_iteration,\n",
        "                                   episode_id,\n",
        "                                   collect_policy_state)#policy_state)\n",
        "\n",
        "  #print(collect_policy_state)\n",
        "\n",
        "  # Sample a batch of data from the buffer and update the agent's network.\n",
        "\n",
        "  step += 1\n",
        "      \n",
        "  if step % 1 == 0: #(num_iterations/50)==0: #50 == 0:\n",
        "    \n",
        "    # Dataset generates trajectories with shape [Bx2x...]\n",
        "    dataset = replay_buffer.as_dataset(\n",
        "    sample_batch_size=None,\n",
        "    num_steps=None)\n",
        "    iterator = iter(dataset)\n",
        "    \n",
        "    #experience, unused_info = next(iterator)\n",
        "    #train_loss = agent.train(experience).loss\n",
        "    experience, unused_info = next(iterator)\n",
        "    batched_exp = tf.nest.map_structure(\n",
        "    lambda t: tf.expand_dims(t, axis=0),\n",
        "    experience\n",
        "    )\n",
        "    #print(batched_exp)\n",
        "    train_loss = agent.train(batched_exp)\n",
        "\n",
        "\n",
        "    #replay_buffer.clear()\n",
        "    value_estimation_loss = train_loss.extra.value_estimation_loss.numpy()\n",
        "    policy_gradient_loss = train_loss.extra.policy_gradient_loss.numpy()\n",
        "    loss = train_loss.loss.numpy()\n",
        "\n",
        "  if step % log_interval == 0:\n",
        "    print('step = {0}: loss = {1} policy loss = {2} value estimation loss = {3}'.format(step, loss, policy_gradient_loss, value_estimation_loss))\n",
        "\n",
        "  if step % eval_interval == 0:\n",
        "    policy_state = agent.policy.get_initial_state(batch_size=train_env.batch_size)\n",
        "    avg_return = compute_avg_return(eval_env, agent.policy, num_eval_episodes, policy_state)\n",
        "    print('step = {0}: Average Return = {1}'.format(step, avg_return))\n",
        "    returns.append(avg_return)\n",
        "  \n",
        "    \n",
        "iterations = range(0, num_iterations + 1, eval_interval)\n",
        "plt.plot(iterations, returns)\n",
        "\n",
        "plt.ylabel('Average Return')\n",
        "plt.xlabel('Iterations')\n",
        "plt.show()"
      ]
    },
    {
      "cell_type": "code",
      "source": [
        ""
      ],
      "metadata": {
        "colab": {
          "base_uri": "https://localhost:8080/",
          "height": 276
        },
        "id": "M63Gr5uxFQKO",
        "outputId": "14b92c48-8ab5-4d7a-e726-1b164d13355e"
      },
      "execution_count": null,
      "outputs": [
        {
          "output_type": "display_data",
          "data": {
            "text/plain": [
              "<Figure size 432x288 with 1 Axes>"
            ],
            "image/png": "[encoded data removed]"
          },
          "metadata": {}
        }
      ]
    }
  ],
  "metadata": {
    "accelerator": "GPU",
    "colab": {
      "collapsed_sections": [],
      "name": "Experimentos_Agente_VRP_InstanciaLuSi.ipynb",
      "provenance": []
    },
    "kernelspec": {
      "display_name": "Python 3 (ipykernel)",
      "language": "python",
      "name": "python3"
    },
    "language_info": {
      "codemirror_mode": {
        "name": "ipython",
        "version": 3
      },
      "file_extension": ".py",
      "mimetype": "text/x-python",
      "name": "python",
      "nbconvert_exporter": "python",
      "pygments_lexer": "ipython3",
      "version": "3.9.12"
    }
  },
  "nbformat": 4,
  "nbformat_minor": 0
}